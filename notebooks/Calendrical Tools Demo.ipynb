{
 "cells": [
  {
   "cell_type": "markdown",
   "metadata": {},
   "source": [
    "![idea card](images/card_lunar_new_year_rat.svg)"
   ]
  },
  {
   "cell_type": "markdown",
   "metadata": {},
   "source": [
    "## Installation and Overview\n",
    "\n",
    "At this early stage in the project, please install from GitHub. Either clone the repository or use the ```pip``` command below. \n",
    "\n",
    "```pip install git+https://github.com/rn123/Calendrical-Tools#egg=Calendrical-Tools```\n",
    " \n",
    "Once the package is installed, the three lines below are the minimal require to **generate and print** a calendar formated as a stacked list of ISO week numbers and weeks. \n",
    "\n",
    "```\n",
    "from calendrical_tools import candybar\n",
    "cal = candybar.TextCandyBar(2020)\n",
    "cal.prcandybar()```\n",
    "\n",
    "Besides the ```Calendrical Tools``` package, this project uses the fundemntal work of Reingold & Dershowitz, Calendrical Calculations. In fact, one of the main motivations of this project is part of the close reading of Reingold & Dershowitz -- being able to reproduce the calculations and figures in their work and to develop new diagrams and illustrations to explore the topics. \n",
    "\n",
    "Reingold & Dershowitz have a Common Lisp implementation (Calendrica 3.0) which was ported to Python 3, [```pycalcal```](https://github.com/espinielli/pycalcal).\n",
    "\n",
    "- Reingold, Edward M. Calendrical Calculations: The Ultimate Edition. 4 edition. Cambridge ; New York: Cambridge University Press, 2018."
   ]
  },
  {
   "cell_type": "code",
   "execution_count": null,
   "metadata": {},
   "outputs": [],
   "source": [
    "from pycalcal import pycalcal as pcc\n",
    "from calendrical_tools import candybar\n",
    "from calendrical_tools.generate_astrolabe import *\n",
    "\n",
    "# Use the jinja package to separate the formatting of the calendars and diagrams \n",
    "# (e.g. LaTex and SVG formats) from the calendrical computations.\n",
    "from jinja2 import Template\n",
    "\n",
    "import math\n",
    "from collections import namedtuple\n",
    "from IPython.core.display import SVG, Image"
   ]
  },
  {
   "cell_type": "code",
   "execution_count": null,
   "metadata": {
    "scrolled": true
   },
   "outputs": [],
   "source": [
    "# Hack: pip commands used in development and testing.\n",
    "!pip uninstall calendrical_tools -y\n",
    "!pip install git+https://github.com/rn123/Calendrical-Tools#egg=Calendrical-Tools"
   ]
  },
  {
   "cell_type": "markdown",
   "metadata": {},
   "source": [
    "## Text CandyBar\n",
    "\n",
    "A plain text candybar is the default output. When the code is first run for a new year, a file containing lunar data will be generate which cound take a minute."
   ]
  },
  {
   "cell_type": "code",
   "execution_count": null,
   "metadata": {
    "scrolled": false
   },
   "outputs": [],
   "source": [
    "year = 2020\n",
    "cal = candybar.TextCandyBar(year=year, weeks_before=1)"
   ]
  },
  {
   "cell_type": "markdown",
   "metadata": {},
   "source": [
    "Generate a calendar and display it as plain text. The current default displays the Gregorian calendar for year, with all of the weeks of the year stacked one above the other. Also, the calendar prints out the ISO week number on the left. New moons are displayed as ```NM```.\n",
    "\n",
    "<pre>\n",
    "52\t23 24 25 NM 27 28 29\n",
    " 1\t30 31  1  2  3  4  5\n",
    " 2\t 6  7  8  9 10 11 12\n",
    " 3\t13 14 15 16 17 18 19\n",
    " 4\t20 21 22 23 NM 25 26\n",
    " 5\t27 28 29 30 31  1  2\n",
    " 6\t 3  4  5  6  7  8  9\n",
    " 7\t10 11 12 13 14 15 16\n",
    " 8\t17 18 19 20 21 22 NM\n",
    " 9\t24 25 26 27 28 29  1\n",
    "</pre>\n",
    "\n",
    "**TODO:**\n",
    "- Need more consistent interface to the different formatting classes.\n",
    "- Need options to generate calendrical data for larger and shorter time periods."
   ]
  },
  {
   "cell_type": "code",
   "execution_count": null,
   "metadata": {
    "scrolled": true
   },
   "outputs": [],
   "source": [
    "%%capture capture --no-stderr\n",
    "# Hack, but useful, to grab textual output from command.\n",
    "\n",
    "cal.prcandybar()"
   ]
  },
  {
   "cell_type": "code",
   "execution_count": null,
   "metadata": {},
   "outputs": [],
   "source": [
    "print(capture.stdout)"
   ]
  },
  {
   "cell_type": "code",
   "execution_count": null,
   "metadata": {},
   "outputs": [],
   "source": [
    "# Current default generates four calendars, debugging statement below to check \n",
    "# that four calendars were generated and each consists of the same number of weeks.\n",
    "for cal_type in cal.weeks:\n",
    "    print(len(cal.weeks[cal_type]), cal_type)"
   ]
  },
  {
   "cell_type": "markdown",
   "metadata": {},
   "source": [
    "## SVG CandyBar"
   ]
  },
  {
   "cell_type": "code",
   "execution_count": null,
   "metadata": {},
   "outputs": [],
   "source": [
    "cal = candybar.SvgCandyBar()"
   ]
  },
  {
   "cell_type": "code",
   "execution_count": null,
   "metadata": {},
   "outputs": [],
   "source": [
    "for cal_type in cal.weeks:\n",
    "    print(len(cal.weeks[cal_type]), cal_type)"
   ]
  },
  {
   "cell_type": "markdown",
   "metadata": {},
   "source": [
    "Styling the output can be done by updating the style parameters in the candybar object. The "
   ]
  },
  {
   "cell_type": "code",
   "execution_count": null,
   "metadata": {},
   "outputs": [],
   "source": [
    "cal_color = {\n",
    "    \"iso\": \"grey;\",\n",
    "    \"dim\": \"lightblue;\",\n",
    "    \"highlight\": \"green;\",\n",
    "    \"highlight_bold\": \"red;\",\n",
    "    \"background\": \"yellow;\"\n",
    "}\n",
    "\n",
    "cal_color = {\n",
    "    \"iso\": \"#cc232a; opacity: 0.5;\",\n",
    "    \"dim\": \"#cc232a;\",\n",
    "    \"highlight\": \"#f5ac27;\",\n",
    "    \"highlight_bold\": \"#cc232a;\",\n",
    "    \"background\": \"#a3262a;\"\n",
    "}\n",
    "\n",
    "cal.bar_heading = \"\"\n",
    "cal.cal_color = cal_color\n",
    "cal.prcandybar()"
   ]
  },
  {
   "cell_type": "code",
   "execution_count": null,
   "metadata": {
    "scrolled": false
   },
   "outputs": [],
   "source": [
    "SVG(cal.svg)"
   ]
  },
  {
   "cell_type": "markdown",
   "metadata": {},
   "source": [
    "## Astrolabe Diagram"
   ]
  },
  {
   "cell_type": "markdown",
   "metadata": {},
   "source": [
    "The ```Astrolabe``` class computes a diagram providing a local view of the sky. The main parameter is the ```latitude``` of the location. To facilitate travelers, early astrolabes were constructed with with exchangeble \n",
    "plates. Quoting James Morrison:\n",
    "\n",
    "> The earliest astrolabes, which were deeply influenced by Greek tradition,\n",
    "    included plates for the latitudes of the *climates.* The climates of the world\n",
    "    were defined by Ptolemy to be the latitudes where the lenght of the longest\n",
    "    day of the year varied by one-half hour. Ptolemy calculated the latitude\n",
    "    corresponding to a 15-minute difference in the length of the longest day\n",
    "    (using a value of 23 degrees 51 minutes 20 seconds for the obliquity of\n",
    "    the ecliptic) for 39 latitudes, which covered the Earth from the equator\n",
    "    to the North Pole. The ones called the classic *climata* were for the\n",
    "    half-hour differences in the longest day covering the then populated world.\"\"\""
   ]
  },
  {
   "cell_type": "code",
   "execution_count": null,
   "metadata": {},
   "outputs": [],
   "source": [
    "plate_parameters = {\"Hawaiian Islands\": 21.3069}\n",
    "astrolabe = Astrolabe(plate_parameters=plate_parameters)\n",
    "plate = astrolabe.plates[\"Hawaiian Islands\"]"
   ]
  },
  {
   "cell_type": "markdown",
   "metadata": {},
   "source": [
    "The current version inclues a short animation, showing the motion of the ecliptic across the local sky."
   ]
  },
  {
   "cell_type": "code",
   "execution_count": null,
   "metadata": {},
   "outputs": [],
   "source": [
    "animation_parameters = {\"from\": \"0\", \"to\": \"233\", \"begin\": \"0s\", \"dur\": \"5s\"}\n",
    "\n",
    "with open(\"../calendrical_tools/astrolabe_template.svg\") as fp:\n",
    "    template_text = fp.read()"
   ]
  },
  {
   "cell_type": "code",
   "execution_count": null,
   "metadata": {},
   "outputs": [],
   "source": [
    "# Use Inkscape extensions to svg to place different parts of astrolabe into their own layer.\n",
    "inkscape_attributes = {\n",
    "    identifier: 'inkscape:label=\"{}\" inkscape:groupmode=\"layer\"'.format(identifier)\n",
    "    for identifier in identifiers\n",
    "}"
   ]
  },
  {
   "cell_type": "code",
   "execution_count": null,
   "metadata": {},
   "outputs": [],
   "source": [
    "ecliptic={\n",
    "        \"cx\": astrolabe.xEclipticCenter,\n",
    "        \"cy\": astrolabe.yEclipticCenter,\n",
    "        \"r\": astrolabe.RadiusEcliptic,\n",
    "        \"width\": 5,\n",
    "    }"
   ]
  },
  {
   "cell_type": "code",
   "execution_count": null,
   "metadata": {},
   "outputs": [],
   "source": [
    "outer_radius = ecliptic[\"r\"] \n",
    "inner_radius = ecliptic[\"r\"] - ecliptic[\"width\"]\n",
    "\n",
    "top_middle_outer =    {\"x\":(ecliptic[\"cx\"]), \"y\":(ecliptic[\"cy\"] + outer_radius)}\n",
    "bottom_middle_outer = {\"x\":(ecliptic[\"cx\"]), \"y\":(ecliptic[\"cy\"] - outer_radius)}\n",
    "\n",
    "top_middle_inner =    {\"x\":(ecliptic[\"cx\"]), \"y\":(ecliptic[\"cy\"] + inner_radius)}\n",
    "bottom_middle_inner = {\"x\":(ecliptic[\"cx\"]), \"y\":(ecliptic[\"cy\"] - inner_radius)}"
   ]
  },
  {
   "cell_type": "code",
   "execution_count": null,
   "metadata": {},
   "outputs": [],
   "source": [
    "template = Template(template_text)\n",
    "astrolabe_svg = template.render(\n",
    "    place_name=plate[\"location\"],\n",
    "    latitude=plate[\"latitude\"],\n",
    "    RCapricorn=astrolabe.RadiusCapricorn,\n",
    "    REquator=astrolabe.RadiusEquator,\n",
    "    RCancer=astrolabe.RadiusCancer,\n",
    "    horiz=plate[\"horizon\"],\n",
    "    almucantor_coords=plate[\"almucantars\"],\n",
    "    almucantar_center=plate[\"almucantar_center\"],\n",
    "    azimuth_coords=plate[\"azimuths\"],\n",
    "    prime_vertical=plate[\"prime_vertical\"],\n",
    "    ticks=astrolabe.ticks,\n",
    "    ecliptic=ecliptic,\n",
    "    top_middle_outer=top_middle_outer,\n",
    "    bottom_middle_outer=bottom_middle_outer,\n",
    "    outer_radius=outer_radius,\n",
    "    inner_radius=inner_radius,\n",
    "    top_middle_inner=top_middle_inner,\n",
    "    bottom_middle_inner=bottom_middle_inner,\n",
    "    ecliptic_center=astrolabe.RadiusEquator * math.tan(astrolabe._obliquityRadiansArgument),\n",
    "    stroke_color=cal_color[\"highlight\"],\n",
    "    background_color=cal_color[\"background\"],\n",
    "    inkscape=inkscape_attributes,\n",
    "    animation=animation_parameters,\n",
    "    )"
   ]
  },
  {
   "cell_type": "code",
   "execution_count": null,
   "metadata": {
    "scrolled": true
   },
   "outputs": [],
   "source": [
    "SVG(data=astrolabe_svg)"
   ]
  },
  {
   "cell_type": "markdown",
   "metadata": {},
   "source": [
    "## Dividing the Ecliptic"
   ]
  },
  {
   "cell_type": "code",
   "execution_count": null,
   "metadata": {},
   "outputs": [],
   "source": [
    "ecliptic_center = astrolabe.RadiusEquator * math.tan(astrolabe._obliquityRadiansArgument)\n",
    "ecliptic_pole = astrolabe.RadiusEquator * math.tan(astrolabe._obliquityRadiansArgument/2)"
   ]
  },
  {
   "cell_type": "code",
   "execution_count": null,
   "metadata": {},
   "outputs": [],
   "source": [
    "print(ecliptic_center, ecliptic_pole)"
   ]
  },
  {
   "cell_type": "code",
   "execution_count": null,
   "metadata": {},
   "outputs": [],
   "source": [
    "ecliptic_division_template = \"\"\"\n",
    "<svg viewbox=\"0 0 200 200\" \n",
    "     width=\"450\" height=\"450\" \n",
    "     xmlns=\"http://www.w3.org/2000/svg\" \n",
    "     xmlns:inkscape=\"http://www.inkscape.org/namespaces/inkscape\" \n",
    "     xmlns:xlink=\"http://www.w3.org/1999/xlink\">\n",
    "<defs>\n",
    "    <style type=\"text/css\">\n",
    "        #tropicCircles {\n",
    "          fill: none;\n",
    "          stroke: {{ stroke_color }}\n",
    "          stroke-width: 1;\n",
    "          stroke-opacity: 0.5;\n",
    "        }\n",
    "        #axisFigure {\n",
    "          stroke: {{ stroke_color }}\n",
    "          stroke-width: 1;\n",
    "          stroke-opacity: 0.5;\n",
    "        }\n",
    "    </style>\n",
    "</defs>\n",
    "\n",
    "<g id=\"test\" transform=\"translate(100,100)\">\n",
    "    <title>Ecliptic Division</title>\n",
    "    <g id=\"tropicCircles\">\n",
    "        <circle cx=\"0\" cy=\"0\" r=\"{{ RCapricorn }}\"/>\n",
    "        <circle cx=\"0\" cy=\"0\" r=\"{{ REquator }}\" style=\"stroke: black;\"/>\n",
    "        <circle cx=\"0\" cy=\"0\" r=\"{{ RCancer }}\"/>\n",
    "    </g>\n",
    "    \n",
    "    <g id=\"axisFigure\">\n",
    "        <line x1=\"0\" y1=\"{{ -RCapricorn }}\" x2=\"0\" y2=\"{{ RCapricorn }}\"/>\n",
    "        <line x1=\"{{ -RCapricorn }}\" y1=\"0\" x2=\"{{ RCapricorn }}\" y2=\"0\"/>\n",
    "    </g>\n",
    "    \n",
    "    <path style=\"stroke:gold; fill:none\" d=\"\n",
    "        M0 {{ ecliptic.cy + ecliptic.r }}\n",
    "        A{{ ecliptic.r }} {{ ecliptic.r }} 0 0 1 {{ ecliptic.cx }} {{ ecliptic.cy - ecliptic.r }}\n",
    "        A{{ ecliptic.r }} {{ ecliptic.r }} 0 0 1 {{ ecliptic.cx }} {{ ecliptic.cy + ecliptic.r }}z\"/>\n",
    "    \n",
    "    <g>\n",
    "        <line x1=\"-5\" y1=\"{{ ecliptic_center }}\" x2=\"5\" y2=\"{{ ecliptic_center }}\" style=\"stroke: black;\"/>\n",
    "        <line x1=\"0\" y1=\"{{ ecliptic_center - 5 }}\" x2=\"0\" y2=\"{{ ecliptic_center + 5 }}\" style=\"stroke: black;\"/>\n",
    "    </g>\n",
    "    \n",
    "    <g>\n",
    "        <title>Divide Equator</title>\n",
    "        <line id=\"tickMark\" x1=\"0\" y1=\"{{ REquator - 2 }}\" x2=\"0\" y2=\"{{ REquator + 2 }}\" style=\"stroke: black; stroke-width: 1;\"/>\n",
    "        {% for angle in angles %}\n",
    "            <use xlink:href=\"#tickMark\" transform=\"rotate({{ angle }})\"/>\n",
    "        {%- endfor %}\n",
    "    </g>\n",
    "</g>\n",
    "</svg>\n",
    "\"\"\""
   ]
  },
  {
   "cell_type": "code",
   "execution_count": null,
   "metadata": {
    "scrolled": false
   },
   "outputs": [],
   "source": [
    "angles = list(range(0, 361, 30))\n",
    "\n",
    "template = Template(ecliptic_division_template)\n",
    "ecliptic_division_svg = template.render(\n",
    "    RCapricorn=astrolabe.RadiusCapricorn,\n",
    "    REquator=astrolabe.RadiusEquator,\n",
    "    RCancer=astrolabe.RadiusCancer,\n",
    "    ecliptic_center=ecliptic_center,\n",
    "    ecliptic=ecliptic,\n",
    "    stroke_color=\"black;\",\n",
    "    angles=angles,\n",
    ")\n",
    "\n",
    "SVG(ecliptic_division_svg)"
   ]
  },
  {
   "cell_type": "code",
   "execution_count": null,
   "metadata": {},
   "outputs": [],
   "source": [
    "for angle in angles:\n",
    "    angleRadians = math.radians(angle)\n",
    "    print(math.tan(angleRadians))"
   ]
  },
  {
   "cell_type": "code",
   "execution_count": null,
   "metadata": {},
   "outputs": [],
   "source": [
    "with open('ecliptic_division.svg', 'w') as fp:\n",
    "    fp.write(ecliptic_division_svg)"
   ]
  },
  {
   "cell_type": "code",
   "execution_count": null,
   "metadata": {},
   "outputs": [],
   "source": [
    "test = \"\"\"\n",
    "<svg viewbox=\"0 0 300 300\" \n",
    "     width=\"500\" height=\"500\" \n",
    "     xmlns=\"http://www.w3.org/2000/svg\" \n",
    "     xmlns:inkscape=\"http://www.inkscape.org/namespaces/inkscape\" \n",
    "     xmlns:xlink=\"http://www.w3.org/1999/xlink\">\n",
    "    <defs>\n",
    "        <style type=\"text/css\">\n",
    "            #tropicCircles {\n",
    "              fill: none;\n",
    "              stroke: black;\n",
    "              stroke-width: 1;\n",
    "              stroke-opacity: 0.5;\n",
    "            }\n",
    "            #eclipticCircle {\n",
    "              fill: none;\n",
    "              stroke: gold;\n",
    "              stroke-width: 2;\n",
    "              stroke-opacity: 1;\n",
    "            }\n",
    "            #axisFigure {\n",
    "              stroke: black;\n",
    "              stroke-width: 1;\n",
    "              stroke-opacity: 0.5;\n",
    "            }\n",
    "            #division {\n",
    "              stroke: black;\n",
    "              stroke-width: 1;\n",
    "              stroke-opacity: 0.5;\n",
    "            }\n",
    "            #divisionBold {\n",
    "              stroke: red;\n",
    "              stroke-width: 1;\n",
    "              stroke-opacity: 1;\n",
    "            }\n",
    "            #eclipticPole, #eclipticCenter {\n",
    "              stroke: black;\n",
    "              stroke-width: 1;\n",
    "              stroke-opacity: 0.5;\n",
    "            }\n",
    "        </style>\n",
    "    </defs>\n",
    "        \n",
    "     <g id=\"test\" transform=\"translate(150,150)\">\n",
    "        <path id=\"tropicCircles\" d=\"\n",
    "            M0 {{ RCapricorn}}\n",
    "            A{{ RCapricorn }} {{ RCapricorn }} 0 0 1 {{ 0 }} {{ -RCapricorn }}\n",
    "            A{{ RCapricorn }} {{ RCapricorn }} 0 0 1 {{ 0 }} {{ RCapricorn }}z\"/>\n",
    "            \n",
    "        <path id=\"tropicCircles\" d=\"\n",
    "            M0 {{ REquator}}\n",
    "            A{{ REquator }} {{ REquator }} 0 0 1 {{ 0 }} {{ -REquator }}\n",
    "            A{{ REquator }} {{ REquator }} 0 0 1 {{ 0 }} {{ REquator }}z\"/>\n",
    "            \n",
    "        <path id=\"tropicCircles\" d=\"\n",
    "            M0 {{ RCancer}}\n",
    "            A{{ RCancer }} {{ RCancer }} 0 0 1 {{ 0 }} {{ -RCancer }}\n",
    "            A{{ RCancer }} {{ RCancer }} 0 0 1 {{ 0 }} {{ RCancer }}z\"/>\n",
    "            \n",
    "        <path id=\"eclipticCircle\" d=\"\n",
    "            M0 {{ ecliptic.cy + ecliptic.r }}\n",
    "            A{{ ecliptic.r }} {{ ecliptic.r }} 0 0 1 {{ ecliptic.cx }} {{ ecliptic.cy - ecliptic.r }}\n",
    "            A{{ ecliptic.r }} {{ ecliptic.r }} 0 0 1 {{ ecliptic.cx }} {{ ecliptic.cy + ecliptic.r }}z\"/>   \n",
    "        \n",
    "        {% for division in equator_division %}\n",
    "            <line id=\"division\" x1=\"0\" y1=\"0\" x2=\"{{ (REquator + 40) * division.x2 }}\" \n",
    "                  y2=\"{{ (REquator + 40) * division.y2 }}\"/>\n",
    "        {%- endfor %}\n",
    "        \n",
    "        <line id=\"divisionBold\" x1=\"0\" y1=\"0\" x2=\"{{ (REquator + 40) * sample_division.x2 }}\" \n",
    "              y2=\"{{ (REquator + 40) * sample_division.y2 }}\"/>\n",
    "        \n",
    "        <line id=\"eclipticCenter\" x1=\"-5\" y1=\"{{ ecliptic_center }}\" x2=\"5\" y2=\"{{ ecliptic_center }}\"/>\n",
    "        <line id=\"eclipticCenter\" x1=\"0\" y1=\"{{ ecliptic_center - 5 }}\" x2=\"0\" y2=\"{{ ecliptic_center + 5 }}\"/>\n",
    "  \n",
    "        <line id=\"eclipticPole\" x1=\"-5\" y1=\"{{ ecliptic_pole }}\" x2=\"5\" y2=\"{{ ecliptic_pole }}\"/>\n",
    "        <line id=\"eclipticPole\" x1=\"0\" y1=\"{{ ecliptic_pole - 5 }}\" x2=\"0\" y2=\"{{ ecliptic_pole + 5 }}\"/>\n",
    "\n",
    "        {% for division in equator_division %}\n",
    "            <line id=\"division\" x1=\"{{ ecliptic_pole.cx }}\" \n",
    "                                y1=\" {{ ecliptic_pole.cy }}\" \n",
    "                                x2=\"{{ intersections.x2 }}\" \n",
    "                                y2=\"{{ intersections.y2 }}\"/>\n",
    "        {%- endfor %}\n",
    "    </g>\n",
    "     \n",
    "</svg>\n",
    "\"\"\""
   ]
  },
  {
   "cell_type": "code",
   "execution_count": null,
   "metadata": {},
   "outputs": [],
   "source": [
    "# !pip install svgwrite\n",
    "# !pip install svgpathtools"
   ]
  },
  {
   "cell_type": "code",
   "execution_count": null,
   "metadata": {},
   "outputs": [],
   "source": [
    "from svgpathtools import Path, Line, QuadraticBezier, CubicBezier, Arc"
   ]
  },
  {
   "cell_type": "code",
   "execution_count": null,
   "metadata": {},
   "outputs": [],
   "source": [
    "from svgpathtools import svg2paths, wsvg, disvg"
   ]
  },
  {
   "cell_type": "code",
   "execution_count": null,
   "metadata": {},
   "outputs": [],
   "source": [
    "paths, attributes = svg2paths('ecliptic_division.svg')"
   ]
  },
  {
   "cell_type": "code",
   "execution_count": null,
   "metadata": {},
   "outputs": [],
   "source": [
    "redpath = paths[0]\n",
    "redpath_attribs = attributes[0]"
   ]
  },
  {
   "cell_type": "code",
   "execution_count": null,
   "metadata": {},
   "outputs": [],
   "source": [
    "intersections = []\n",
    "for path in paths:\n",
    "    if path != redpath:\n",
    "        for (T1, seg1, t1), (T2, seg2, t2) in redpath.intersect(path):\n",
    "            p = redpath.point(T1)\n",
    "            intersections.append(p)\n",
    "\n",
    "intersections = [i for i in intersections if i is not None]\n",
    "intersections = list(set([(p.real, p.imag) for p in intersections]))\n",
    "\n",
    "match_list = []\n",
    "while len(intersections) > 0:\n",
    "    p = intersections.pop()\n",
    "    l = [p]\n",
    "    for m, q in enumerate(intersections):\n",
    "        if math.isclose(p[0], q[0], abs_tol=0.01) and math.isclose(p[1], q[1], abs_tol=0.01):\n",
    "            l.append(q)\n",
    "            intersections.pop(m)\n",
    "    match_list.append(l)\n",
    "\n",
    "match_list = [{\"x2\":m[0][0], \"y2\":m[0][1]} for m in match_list]"
   ]
  },
  {
   "cell_type": "code",
   "execution_count": null,
   "metadata": {},
   "outputs": [],
   "source": [
    "angles = list(range(0, 361, 30))\n",
    "sample_angle = 30\n",
    "\n",
    "template = Template(test)\n",
    "ecliptic_division_svg = template.render(\n",
    "    RCapricorn=astrolabe.RadiusCapricorn,\n",
    "    REquator=astrolabe.RadiusEquator,\n",
    "    RCancer=astrolabe.RadiusCancer,\n",
    "    ecliptic=ecliptic,\n",
    "    stroke_color=\"black;\",\n",
    "    ecliptic_center=ecliptic_center,\n",
    "    ecliptic_pole=ecliptic_pole,\n",
    "    equator_division=[{\"x2\":math.cos(math.radians(angle)), \n",
    "                       \"y2\":math.sin(math.radians(angle)), \n",
    "                       \"angle\":angle} for angle in angles],\n",
    "    sample_division={\"x2\":math.cos(math.radians(sample_angle)), \n",
    "                     \"y2\":math.sin(math.radians(sample_angle)), \n",
    "                     \"angle\":sample_angle},\n",
    "    intersections=match_list\n",
    ")\n",
    "\n",
    "# with open('ecliptic_division.svg', 'w') as fp:\n",
    "#     fp.write(ecliptic_division_svg)\n",
    "    \n",
    "SVG(ecliptic_division_svg)"
   ]
  },
  {
   "cell_type": "code",
   "execution_count": null,
   "metadata": {},
   "outputs": [],
   "source": [
    "disvg([redpath, seg2])"
   ]
  },
  {
   "cell_type": "code",
   "execution_count": null,
   "metadata": {
    "scrolled": true
   },
   "outputs": [],
   "source": [
    "disvg(paths, filename='output_intersections.svg', attributes=attributes,\n",
    "      nodes = intersections, node_radii = [5]*len(intersections))"
   ]
  },
  {
   "cell_type": "code",
   "execution_count": null,
   "metadata": {},
   "outputs": [],
   "source": []
  },
  {
   "cell_type": "code",
   "execution_count": null,
   "metadata": {},
   "outputs": [],
   "source": []
  },
  {
   "cell_type": "markdown",
   "metadata": {},
   "source": [
    "## Sun, moon, and stars"
   ]
  },
  {
   "cell_type": "markdown",
   "metadata": {},
   "source": [
    "Motion of moon and sun is computed along the ecliptic. In order to plot the position of the moon and sun on the plane of the astrolabe (actually onto the rete), first convert the ecliptic longitude and latitude to equatorial coordinates, and then use the stereographic projection.\n",
    "\n",
    "The ```CandyBar``` object contains the computed new moons of the time period. This is a list of the "
   ]
  },
  {
   "cell_type": "code",
   "execution_count": null,
   "metadata": {},
   "outputs": [],
   "source": [
    "lunar_new_year = cal.new_moons[737448]\n",
    "lunar_new_year"
   ]
  },
  {
   "cell_type": "markdown",
   "metadata": {},
   "source": [
    "$\\sin\\delta = \\sin\\beta\\cos\\epsilon + \\cos\\beta \\sin\\epsilon \\sin\\lambda$\n",
    "\n",
    "Since $\\beta = 0$ for the sun, the formula simplifies to:\n",
    "\n",
    "$\\sin\\delta = \\sin\\epsilon \\sin\\lambda$ "
   ]
  },
  {
   "cell_type": "code",
   "execution_count": null,
   "metadata": {},
   "outputs": [],
   "source": [
    "lunar_new_year.moon_sidereal_longitude"
   ]
  },
  {
   "cell_type": "code",
   "execution_count": null,
   "metadata": {
    "scrolled": true
   },
   "outputs": [],
   "source": [
    "sin_declination = (math.sin(astrolabe._obliquityRadians) \n",
    "                    * math.sin(math.radians(lunar_new_year.moon_sidereal_longitude)))\n",
    "declination_radians = pcc.asin(sin_declination)\n",
    "declination = pcc.degrees(declination_radians)\n",
    "declination_argument = math.radians((90 - declination) / 2.0)\n",
    "r = astrolabe.RadiusEquator * math.tan(declination_argument)"
   ]
  },
  {
   "cell_type": "code",
   "execution_count": null,
   "metadata": {},
   "outputs": [],
   "source": [
    "lunar_latitude = pcc.degrees(pcc.lunar_latitude(lunar_new_year.moon_fixed_day))\n",
    "lunar_latitude_radians = math.radians(lunar_latitude)\n",
    "\n",
    "tan_right_ascension = (\n",
    "    (math.sin(lunar_latitude_radians) * math.cos(astrolabe._obliquityRadians) \n",
    "        - math.tan(declination_radians) * math.sin(astrolabe._obliquityRadians)) / \n",
    "     math.cos(lunar_latitude_radians)\n",
    ")\n",
    "\n",
    "alpha_radians = pcc.atan( tan_right_ascension )\n",
    "alpha = pcc.degrees(alpha_radians)"
   ]
  },
  {
   "cell_type": "code",
   "execution_count": null,
   "metadata": {},
   "outputs": [],
   "source": [
    "print(r, alpha)"
   ]
  },
  {
   "cell_type": "markdown",
   "metadata": {},
   "source": [
    "## 鼠年大吉"
   ]
  },
  {
   "cell_type": "code",
   "execution_count": null,
   "metadata": {},
   "outputs": [],
   "source": [
    "with open(\"../docs/images/rat.svg\") as fp:\n",
    "    rat_svg = fp.read()"
   ]
  },
  {
   "cell_type": "code",
   "execution_count": null,
   "metadata": {},
   "outputs": [],
   "source": [
    "rat_template = \"\"\"\n",
    "<svg viewbox=\"0 0 300 300\" \n",
    "     width=\"300\" height=\"300\" \n",
    "     xmlns=\"http://www.w3.org/2000/svg\" \n",
    "     xmlns:inkscape=\"http://www.inkscape.org/namespaces/inkscape\" \n",
    "     xmlns:xlink=\"http://www.w3.org/1999/xlink\">\n",
    "<defs>\n",
    "    <style type=\"text/css\">\n",
    "        #983: { fill: red;\n",
    "        } \n",
    "    </style>\n",
    "</defs>\n",
    "<g id=\"rat\">\n",
    "    <title>Year of the Rat </title>\n",
    "        {{ rat }}\n",
    "</g>\n",
    "</svg>\n",
    "\"\"\""
   ]
  },
  {
   "cell_type": "code",
   "execution_count": null,
   "metadata": {},
   "outputs": [],
   "source": [
    "template = Template(rat_template)\n",
    "svg = template.render(rat=rat_svg, background=cal_color[\"background\"])"
   ]
  },
  {
   "cell_type": "code",
   "execution_count": null,
   "metadata": {},
   "outputs": [],
   "source": [
    "SVG(svg)"
   ]
  },
  {
   "cell_type": "markdown",
   "metadata": {},
   "source": [
    "## Concept Card for Project"
   ]
  },
  {
   "cell_type": "code",
   "execution_count": null,
   "metadata": {},
   "outputs": [],
   "source": [
    "card_template = \"\"\"\n",
    "<svg viewbox=\"0 0 1280 640\" \n",
    "     width=\"1280\" height=\"640\" \n",
    "     xmlns=\"http://www.w3.org/2000/svg\" \n",
    "     xmlns:inkscape=\"http://www.inkscape.org/namespaces/inkscape\" \n",
    "     xmlns:xlink=\"http://www.w3.org/1999/xlink\">\n",
    "     \n",
    "<g id=\"card\">\n",
    "    \n",
    "    <defs>\n",
    "        <g transform=\"scale(1.3)\">\n",
    "            <clipPath id=\"hole\">\n",
    "               <path d=\"M75 75 L 1205 75 L 1205 565 L 75 565Z\" \n",
    "                     style=\"stroke: {{ cal_color.highlight }} \n",
    "                     fill: {{ cal_color.background }}\"/>\n",
    "            </clipPath>\n",
    "        </g>\n",
    "    </defs>\n",
    "    \n",
    "    <g>\n",
    "        <rect x=\"75px\" y=\"75px\" width=\"1130\" height=\"490\" \n",
    "              style=\"stroke: {{ cal_color.highlight }} fill: {{ cal_color.background }}\"/>\n",
    "    </g>\n",
    "\n",
    "    <g transform=\"translate(560, 138)\">\n",
    "        <title>New Year Greeting</title>\n",
    "        <text x=\"65\" y=\"40\" writing-mode=\"tb\" \n",
    "              style=\"font-size:60; font-family: Courier Arial, Helvetica, sans-serif; fill:{{ cal_color.highlight }} fill-opacity:1.0;\">鼠年大吉\n",
    "            <tspan x=\"0\" y=\"40\" writing-mode=\"tb-rl\" style=\"font-size: 60;\">恭喜發財</tspan>\n",
    "        </text>\n",
    "        <line x1=\"-30\" y1=\"40\" x2=\"-30\" y2=\"320\" style=\"stroke: {{ cal_color.highlight }} stroke-opacity: 0.2; stroke-width:3\" />\n",
    "        <line x1=\"35\"  y1=\"40\" x2=\"35\"  y2=\"320\" style=\"stroke: {{ cal_color.highlight }} stroke-opacity: 0.2; stroke-width:3\" />\n",
    "        <line x1=\"100\" y1=\"40\" x2=\"100\" y2=\"320\" style=\"stroke: {{ cal_color.highlight }} stroke-opacity: 0.2; stroke-width:3\" />\n",
    "    </g>\n",
    "    \n",
    "    <g>\n",
    "        <text x=\"95\" y=\"125\"\n",
    "              style=\"font-size:30; fill: {{ cal_color.highlight }};fill-opacity:1.0;\">Calendrical Tools 2020</text>\n",
    "        <g transform=\"translate(1110, 435) scale(0.55)\">\n",
    "            <title>Rat</title>\n",
    "            {{ rat }}\n",
    "        </g>\n",
    "    </g>\n",
    "    \n",
    "    <g transform=\"translate(690, 70)\">\n",
    "        <g transform=\"scale(2)\">\n",
    "            {{ astrolabe}}\n",
    "        </g>\n",
    "    </g>\n",
    "    \n",
    "    <g style=\"clip-path: url(#hole);\">\n",
    "        <rect x=\"75\" y=\"155\" width=\"400\" height=\"430\" style=\"stroke: {{ cal_color.highlight }} fill:none;\"/>\n",
    "        <rect x=\"65\" y=\"165\" width=\"400\" height=\"430\" style=\"stroke: {{ cal_color.highlight }} fill:none;\"/>\n",
    "        <g transform=\"translate(75, 155)\">\n",
    "            {{ candybar }}\n",
    "        </g>\n",
    "    </g>\n",
    "    \n",
    "</g></svg>\n",
    "\"\"\" "
   ]
  },
  {
   "cell_type": "code",
   "execution_count": null,
   "metadata": {},
   "outputs": [],
   "source": [
    "template = Template(card_template)\n",
    "astrolabe_svg = astrolabe_svg.replace('21.3069', \"21° 18' 25''\")\n",
    "card_svg = template.render(candybar=cal.svg, astrolabe=astrolabe_svg, \n",
    "                           rat=rat_svg, cal_color=cal_color)\n",
    "SVG(card_svg)"
   ]
  },
  {
   "cell_type": "code",
   "execution_count": null,
   "metadata": {},
   "outputs": [],
   "source": [
    "with open('card.svg', 'w') as fp:\n",
    "    fp.write(card_svg)"
   ]
  },
  {
   "cell_type": "markdown",
   "metadata": {},
   "source": [
    "**TODO:**\n",
    "- The current ``png`` image displays the vertical strings of Chinese character incorrectl. May be an issues with ```cairosvg```.\n",
    "- Not an issue, ```writing-mode``` not supported."
   ]
  },
  {
   "cell_type": "code",
   "execution_count": null,
   "metadata": {},
   "outputs": [],
   "source": [
    "try:\n",
    "    import cairosvg\n",
    "except Exception as ex:\n",
    "    print('Exception {}. Install cairosvg: '.format(ex))\n",
    "    !pip install cairosvg"
   ]
  },
  {
   "cell_type": "code",
   "execution_count": null,
   "metadata": {},
   "outputs": [],
   "source": [
    "def png_from_svg(filename=\"card.svg\"):\n",
    "    with open(filename) as fp:\n",
    "        card_svg = fp.read()\n",
    "    \n",
    "    return cairosvg.svg2png(card_svg)"
   ]
  },
  {
   "cell_type": "code",
   "execution_count": null,
   "metadata": {},
   "outputs": [],
   "source": [
    "png = png_from_svg()\n",
    "Image(png)"
   ]
  },
  {
   "cell_type": "code",
   "execution_count": null,
   "metadata": {},
   "outputs": [],
   "source": []
  }
 ],
 "metadata": {
  "kernelspec": {
   "display_name": "Python 3",
   "language": "python",
   "name": "python3"
  },
  "language_info": {
   "codemirror_mode": {
    "name": "ipython",
    "version": 3
   },
   "file_extension": ".py",
   "mimetype": "text/x-python",
   "name": "python",
   "nbconvert_exporter": "python",
   "pygments_lexer": "ipython3",
   "version": "3.8.1"
  },
  "toc": {
   "base_numbering": 1,
   "nav_menu": {},
   "number_sections": true,
   "sideBar": true,
   "skip_h1_title": false,
   "title_cell": "Table of Contents",
   "title_sidebar": "Contents",
   "toc_cell": false,
   "toc_position": {},
   "toc_section_display": true,
   "toc_window_display": false
  }
 },
 "nbformat": 4,
 "nbformat_minor": 4
}
