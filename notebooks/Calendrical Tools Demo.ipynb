{
 "cells": [
  {
   "cell_type": "markdown",
   "metadata": {},
   "source": [
    "![idea card](images/card_lunar_new_year_rat.svg)"
   ]
  },
  {
   "cell_type": "markdown",
   "metadata": {},
   "source": [
    "## Installation and Overview\n",
    "\n",
    "At this early stage in the project, please install from GitHub. Either clone the repository or use the ```pip``` command below. \n",
    "\n",
    "```pip install git+https://github.com/rn123/Calendrical-Tools#egg=Calendrical-Tools```\n",
    " \n",
    "Once the package is installed, the three lines below are the minimal require to **generate and print** a calendar formated as a stacked list of ISO week numbers and weeks. \n",
    "\n",
    "```\n",
    "from calendrical_tools import candybar\n",
    "cal = candybar.TextCandyBar(2020)\n",
    "cal.prcandybar()```\n",
    "\n",
    "Besides the ```Calendrical Tools``` package, this project uses the fundemntal work of Reingold & Dershowitz, Calendrical Calculations. In fact, one of the main motivations of this project is part of the close reading of Reingold & Dershowitz -- being able to reproduce the calculations and figures in their work and to develop new diagrams and illustrations to explore the topics. \n",
    "\n",
    "Reingold & Dershowitz have a Common Lisp implementation (Calendrica 3.0) which was ported to Python 3, [```pycalcal```](https://github.com/espinielli/pycalcal).\n",
    "\n",
    "- Reingold, Edward M. Calendrical Calculations: The Ultimate Edition. 4 edition. Cambridge ; New York: Cambridge University Press, 2018."
   ]
  },
  {
   "cell_type": "code",
   "execution_count": null,
   "metadata": {},
   "outputs": [],
   "source": [
    "from pycalcal import pycalcal as pcc\n",
    "from calendrical_tools import candybar\n",
    "from calendrical_tools.generate_astrolabe import *\n",
    "\n",
    "# Use the jinja package to separate the formatting of the calendars and diagrams \n",
    "# (e.g. LaTex and SVG formats) from the calendrical computations.\n",
    "from jinja2 import Template\n",
    "\n",
    "from svgpathtools import Path, Line, svg2paths\n",
    "from svgpathtools import svg2paths, wsvg, disvg\n",
    "import PIL\n",
    "\n",
    "import math\n",
    "import pandas as pd\n",
    "from collections import namedtuple\n",
    "from IPython.core.display import SVG, Image"
   ]
  },
  {
   "cell_type": "code",
   "execution_count": null,
   "metadata": {
    "scrolled": true
   },
   "outputs": [],
   "source": [
    "# Hack: pip commands used in development and testing.\n",
    "!pip uninstall calendrical_tools -y\n",
    "!pip install git+https://github.com/rn123/Calendrical-Tools#egg=Calendrical-Tools"
   ]
  },
  {
   "cell_type": "markdown",
   "metadata": {},
   "source": [
    "## Text CandyBar\n",
    "\n",
    "A plain text candybar is the default output. When the code is first run for a new year, a file containing lunar data will be generate which cound take a minute."
   ]
  },
  {
   "cell_type": "code",
   "execution_count": null,
   "metadata": {
    "scrolled": false
   },
   "outputs": [],
   "source": [
    "year = 2020\n",
    "cal = candybar.TextCandyBar(year=year, weeks_before=1)"
   ]
  },
  {
   "cell_type": "markdown",
   "metadata": {},
   "source": [
    "Generate a calendar and display it as plain text. The current default displays the Gregorian calendar for year, with all of the weeks of the year stacked one above the other. Also, the calendar prints out the ISO week number on the left. New moons are displayed as ```NM```.\n",
    "\n",
    "<pre>\n",
    "52\t23 24 25 NM 27 28 29\n",
    " 1\t30 31  1  2  3  4  5\n",
    " 2\t 6  7  8  9 10 11 12\n",
    " 3\t13 14 15 16 17 18 19\n",
    " 4\t20 21 22 23 NM 25 26\n",
    " 5\t27 28 29 30 31  1  2\n",
    " 6\t 3  4  5  6  7  8  9\n",
    " 7\t10 11 12 13 14 15 16\n",
    " 8\t17 18 19 20 21 22 NM\n",
    " 9\t24 25 26 27 28 29  1\n",
    "</pre>\n",
    "\n",
    "**TODO:**\n",
    "- Need more consistent interface to the different formatting classes.\n",
    "- Need options to generate calendrical data for larger and shorter time periods."
   ]
  },
  {
   "cell_type": "code",
   "execution_count": null,
   "metadata": {
    "scrolled": true
   },
   "outputs": [],
   "source": [
    "%%capture capture --no-stderr\n",
    "# Hack, but useful, to grab textual output from command.\n",
    "\n",
    "cal.prcandybar()"
   ]
  },
  {
   "cell_type": "code",
   "execution_count": null,
   "metadata": {
    "scrolled": true
   },
   "outputs": [],
   "source": [
    "print(capture.stdout)"
   ]
  },
  {
   "cell_type": "code",
   "execution_count": null,
   "metadata": {},
   "outputs": [],
   "source": [
    "# Current default generates four calendars, debugging statement below to check \n",
    "# that four calendars were generated and each consists of the same number of weeks.\n",
    "for cal_type in cal.weeks:\n",
    "    print(len(cal.weeks[cal_type]), cal_type)"
   ]
  },
  {
   "cell_type": "markdown",
   "metadata": {},
   "source": [
    "## SVG CandyBar"
   ]
  },
  {
   "cell_type": "code",
   "execution_count": null,
   "metadata": {},
   "outputs": [],
   "source": [
    "cal = candybar.SvgCandyBar()"
   ]
  },
  {
   "cell_type": "code",
   "execution_count": null,
   "metadata": {},
   "outputs": [],
   "source": [
    "for cal_type in cal.weeks:\n",
    "    print(len(cal.weeks[cal_type]), cal_type)"
   ]
  },
  {
   "cell_type": "markdown",
   "metadata": {},
   "source": [
    "Styling the output can be done by updating the style parameters in the candybar object. The "
   ]
  },
  {
   "cell_type": "code",
   "execution_count": null,
   "metadata": {},
   "outputs": [],
   "source": [
    "cal_color = {\n",
    "    \"iso\": \"grey;\",\n",
    "    \"dim\": \"lightblue;\",\n",
    "    \"highlight\": \"green;\",\n",
    "    \"highlight_bold\": \"red;\",\n",
    "    \"background\": \"yellow;\"\n",
    "}\n",
    "\n",
    "cal_color = {\n",
    "    \"iso\": \"#cc232a; opacity: 0.5;\",\n",
    "    \"dim\": \"#cc232a;\",\n",
    "    \"highlight\": \"#f5ac27;\",\n",
    "    \"highlight_bold\": \"#cc232a;\",\n",
    "    \"background\": \"#a3262a;\"\n",
    "}\n",
    "\n",
    "cal.bar_heading = \"\"\n",
    "cal.cal_color = cal_color\n",
    "cal.prcandybar()"
   ]
  },
  {
   "cell_type": "code",
   "execution_count": null,
   "metadata": {
    "scrolled": false
   },
   "outputs": [],
   "source": [
    "SVG(cal.svg)"
   ]
  },
  {
   "cell_type": "markdown",
   "metadata": {},
   "source": [
    "## Astrolabe Diagram"
   ]
  },
  {
   "cell_type": "markdown",
   "metadata": {},
   "source": [
    "The ```Astrolabe``` class computes a diagram providing a local view of the sky. The main parameter is the ```latitude``` of the location. To facilitate travelers, early astrolabes were constructed with with exchangeble \n",
    "plates. Quoting James Morrison:\n",
    "\n",
    "> The earliest astrolabes, which were deeply influenced by Greek tradition,\n",
    "    included plates for the latitudes of the *climates.* The climates of the world\n",
    "    were defined by Ptolemy to be the latitudes where the lenght of the longest\n",
    "    day of the year varied by one-half hour. Ptolemy calculated the latitude\n",
    "    corresponding to a 15-minute difference in the length of the longest day\n",
    "    (using a value of 23 degrees 51 minutes 20 seconds for the obliquity of\n",
    "    the ecliptic) for 39 latitudes, which covered the Earth from the equator\n",
    "    to the North Pole. The ones called the classic *climata* were for the\n",
    "    half-hour differences in the longest day covering the then populated world.\"\"\""
   ]
  },
  {
   "cell_type": "code",
   "execution_count": null,
   "metadata": {},
   "outputs": [],
   "source": [
    "plate_parameters = {\"Hawaiian Islands\": 21.3069}\n",
    "astrolabe = Astrolabe(plate_parameters=plate_parameters)\n",
    "plate = astrolabe.plates[\"Hawaiian Islands\"]"
   ]
  },
  {
   "cell_type": "markdown",
   "metadata": {},
   "source": [
    "The current version inclues a short animation, showing the motion of the ecliptic across the local sky."
   ]
  },
  {
   "cell_type": "code",
   "execution_count": null,
   "metadata": {},
   "outputs": [],
   "source": [
    "animation_parameters = {\"from\": \"0\", \"to\": \"233\", \"begin\": \"0s\", \"dur\": \"5s\"}\n",
    "\n",
    "with open(\"../calendrical_tools/astrolabe_template.svg\") as fp:\n",
    "    template_text = fp.read()"
   ]
  },
  {
   "cell_type": "code",
   "execution_count": null,
   "metadata": {},
   "outputs": [],
   "source": [
    "# Use Inkscape extensions to svg to place different parts of astrolabe into their own layer.\n",
    "inkscape_attributes = {\n",
    "    identifier: 'inkscape:label=\"{}\" inkscape:groupmode=\"layer\"'.format(identifier)\n",
    "    for identifier in identifiers\n",
    "}"
   ]
  },
  {
   "cell_type": "code",
   "execution_count": null,
   "metadata": {},
   "outputs": [],
   "source": [
    "ecliptic={\n",
    "        \"cx\": astrolabe.xEclipticCenter,\n",
    "        \"cy\": astrolabe.yEclipticCenter,\n",
    "        \"r\": astrolabe.RadiusEcliptic,\n",
    "        \"width\": 5,\n",
    "    }"
   ]
  },
  {
   "cell_type": "code",
   "execution_count": null,
   "metadata": {},
   "outputs": [],
   "source": [
    "outer_radius = ecliptic[\"r\"] \n",
    "inner_radius = ecliptic[\"r\"] - ecliptic[\"width\"]\n",
    "\n",
    "top_middle_outer =    {\"x\":(ecliptic[\"cx\"]), \"y\":(ecliptic[\"cy\"] + outer_radius)}\n",
    "bottom_middle_outer = {\"x\":(ecliptic[\"cx\"]), \"y\":(ecliptic[\"cy\"] - outer_radius)}\n",
    "\n",
    "top_middle_inner =    {\"x\":(ecliptic[\"cx\"]), \"y\":(ecliptic[\"cy\"] + inner_radius)}\n",
    "bottom_middle_inner = {\"x\":(ecliptic[\"cx\"]), \"y\":(ecliptic[\"cy\"] - inner_radius)}"
   ]
  },
  {
   "cell_type": "code",
   "execution_count": null,
   "metadata": {},
   "outputs": [],
   "source": [
    "aries_first_point = astrolabe.ecliptic_division(180)\n",
    "aries_first_point_angle = math.degrees(\n",
    "    math.atan2(aries_first_point[\"y2\"], aries_first_point[\"x2\"])\n",
    ")"
   ]
  },
  {
   "cell_type": "code",
   "execution_count": null,
   "metadata": {},
   "outputs": [],
   "source": [
    "ecliptic_divisions = []\n",
    "for angle in list(range(0, 361, 30)):\n",
    "    ecliptic_divisions.append(astrolabe.ecliptic_division(angle))"
   ]
  },
  {
   "cell_type": "code",
   "execution_count": null,
   "metadata": {},
   "outputs": [],
   "source": [
    "seasonal_arcs = []\n",
    "\n",
    "seasonal_names = [    \n",
    "    \"雨水\",\n",
    "    \"大寒\",\n",
    "    \"冬至\",\n",
    "    \"小雪\",\n",
    "    \"霜降\",\n",
    "    \"秋分\",\n",
    "    \"处暑\",\n",
    "    \"大暑\",\n",
    "    \"夏至\",\n",
    "    \"小满\",\n",
    "    \"谷雨\",\n",
    "    \"春分\",\n",
    "]\n",
    "\n",
    "seasonal_names = [\n",
    "        \"pisces\",\n",
    "        \"aquarius\",\n",
    "        \"capricorn\",\n",
    "        \"sagittarius\",\n",
    "        \"scorpio\",\n",
    "        \"libra\",\n",
    "        \"virgo\",\n",
    "        \"leo\",\n",
    "        \"cancer\",\n",
    "        \"gemini\",\n",
    "        \"taurus\",\n",
    "        \"aries\",\n",
    "    ]\n",
    "\n",
    "angle = 0\n",
    "for n, division in enumerate(ecliptic_divisions[0:12]):\n",
    "    tag = \"season\" + str(angle)\n",
    "    angle += 30\n",
    "    next_division = ecliptic_divisions[(n + 1) % 12]\n",
    "    sarc = Path(\n",
    "        Arc(\n",
    "            start=complex(division[\"x2\"], division[\"y2\"]),\n",
    "            radius=complex(ecliptic[\"r\"], ecliptic[\"r\"]),\n",
    "            rotation=0.0,\n",
    "            large_arc=True,\n",
    "            sweep=False,\n",
    "            end=complex(next_division[\"x2\"], next_division[\"y2\"]),\n",
    "        )\n",
    "    )\n",
    "    seasonal_arcs.append(\n",
    "        {\n",
    "            \"tag\": tag,\n",
    "            \"name\": seasonal_names[n],\n",
    "            \"r\": ecliptic[\"r\"],\n",
    "            \"start_x\": division[\"x2\"],\n",
    "            \"start_y\": division[\"y2\"],\n",
    "            \"end_x\": next_division[\"x2\"],\n",
    "            \"end_y\": next_division[\"y2\"],\n",
    "            \"reversed\": sarc.reversed().d(),\n",
    "        }\n",
    "    )"
   ]
  },
  {
   "cell_type": "code",
   "execution_count": null,
   "metadata": {},
   "outputs": [],
   "source": [
    "stars = [\n",
    "    {\"name\":\"aldebaran\",  \"r\": 0.7467, \"theta\": 68.98},\n",
    "    {\"name\":\"altair\",     \"r\": 0.8561, \"theta\": 297.69542},\n",
    "    {\"name\":\"arcturus\",   \"r\": 0.7109, \"theta\": 213.91500},\n",
    "    {\"name\":\"capella\",    \"r\": 0.4040, \"theta\": 79.17208},\n",
    "    {\"name\":\"sirius\",     \"r\": 1.3099, \"theta\": 101.28708},\n",
    "    {\"name\":\"procyon\",    \"r\": 0.9127, \"theta\":114.82542},\n",
    "    {\"name\":\"deneb\",      \"r\": 0.4114, \"theta\": 310.35750},\n",
    "    {\"name\":\"castor\",     \"r\": 0.5556, \"theta\": 113.64958},\n",
    "    {\"name\":\"regulus\",    \"r\": 0.8103, \"theta\": 152.09250},\n",
    "    {\"name\":\"vega\",       \"r\": 0.4793, \"theta\": 279.23417},\n",
    "    {\"name\":\"betelgeuse\", \"r\": 0.8784, \"theta\": 88.79292},\n",
    "    {\"name\":\"rigel\",      \"r\": 1.1463, \"theta\": 78.63417},\n",
    "    {\"name\":\"bellatrix\",  \"r\": 0.8949, \"theta\": 81.28250},\n",
    "    {\"name\":\"antares\",    \"r\": 1.5870, \"theta\": 247.35167},\n",
    "    {\"name\":\"spica\",      \"r\": 1.2096, \"theta\": 201.29792}\n",
    "]\n",
    "\n",
    "for star in stars:\n",
    "    star[\"cx\"] = astrolabe.RadiusEquator * star[\"r\"] * math.cos(math.radians(star[\"theta\"]))\n",
    "    star[\"cy\"] = astrolabe.RadiusEquator * star[\"r\"] * math.sin(math.radians(star[\"theta\"]))"
   ]
  },
  {
   "cell_type": "code",
   "execution_count": null,
   "metadata": {},
   "outputs": [],
   "source": [
    "ecliptic_divisions = []\n",
    "for angle in list(range(0, 361, 30)):\n",
    "    ecliptic_divisions.append(astrolabe.ecliptic_division(angle))\n",
    "\n",
    "ecliptic_divisions_fine = []\n",
    "for angle in list(range(0, 361, 10)):\n",
    "    ecliptic_divisions_fine.append(astrolabe.ecliptic_division(angle))\n",
    "\n",
    "ecliptic_divisions_efine = []\n",
    "for angle in list(range(0, 361, 2)):\n",
    "    ecliptic_divisions_efine.append(astrolabe.ecliptic_division(angle))"
   ]
  },
  {
   "cell_type": "code",
   "execution_count": null,
   "metadata": {},
   "outputs": [],
   "source": [
    "template = Template(template_text)\n",
    "astrolabe_svg = template.render(\n",
    "    place_name=plate[\"location\"],\n",
    "    latitude=plate[\"latitude\"],\n",
    "    RCapricorn=astrolabe.RadiusCapricorn,\n",
    "    REquator=astrolabe.RadiusEquator,\n",
    "    RCancer=astrolabe.RadiusCancer,\n",
    "    horiz=plate[\"horizon\"],\n",
    "    almucantor_coords=plate[\"almucantars\"],\n",
    "    almucantar_center=plate[\"almucantar_center\"],\n",
    "    azimuth_coords=plate[\"azimuths\"],\n",
    "    prime_vertical=plate[\"prime_vertical\"],\n",
    "    ticks=astrolabe.ticks,\n",
    "    ecliptic=ecliptic,\n",
    "    ecliptic_divisions=ecliptic_divisions,\n",
    "    ecliptic_divisions_fine=ecliptic_divisions_fine,\n",
    "    ecliptic_divisions_efine=ecliptic_divisions_efine,\n",
    "    aries_first_point=aries_first_point,\n",
    "    aries_first_point_angle=astrolabe.obliquity,\n",
    "    top_middle_outer=top_middle_outer,\n",
    "    bottom_middle_outer=bottom_middle_outer,\n",
    "    outer_radius=outer_radius,\n",
    "    inner_radius=inner_radius,\n",
    "    top_middle_inner=top_middle_inner,\n",
    "    bottom_middle_inner=bottom_middle_inner,\n",
    "    ecliptic_pole=astrolabe.ecliptic_pole,\n",
    "    seasonal_arcs=seasonal_arcs,\n",
    "    stars=stars,\n",
    "    stroke_color=cal_color[\"highlight\"],\n",
    "    background_color=cal_color[\"highlight\"],\n",
    "    graph_color=cal_color[\"highlight\"],\n",
    "    inkscape=inkscape_attributes,\n",
    "    animation=animation_parameters,\n",
    "    )"
   ]
  },
  {
   "cell_type": "code",
   "execution_count": null,
   "metadata": {
    "scrolled": false
   },
   "outputs": [],
   "source": [
    "SVG(data=astrolabe_svg)"
   ]
  },
  {
   "cell_type": "markdown",
   "metadata": {},
   "source": [
    "## Dividing the Ecliptic"
   ]
  },
  {
   "cell_type": "markdown",
   "metadata": {},
   "source": [
    "> The procedure for dividing the ecliptic is (Figure 6-7 with the following steps numbered):\n",
    "1. Locate the ecliptic pole on the meridian at $R_{eq} \\tan(\\epsilon / 2)$ from the center.\n",
    "2. Divide the equator into equal segments of longitude: 12 divisions of 30 for the entry into each zodiac sign: more divisions depending on the resolution desired.\n",
    "3. Draw a line from each equator division to the ecliptic pole. The corresponding longitude point on the ecliptic is where this line intersects the ecliptic circle.\n",
    "4. A tic mark on the ecliptic is drawn toward the center of the instrument."
   ]
  },
  {
   "cell_type": "code",
   "execution_count": null,
   "metadata": {},
   "outputs": [],
   "source": [
    "# !pip install svgwrite\n",
    "# !pip install svgpathtools"
   ]
  },
  {
   "cell_type": "code",
   "execution_count": null,
   "metadata": {},
   "outputs": [],
   "source": [
    "# paths, attributes = svg2paths('ecliptic_division.svg')"
   ]
  },
  {
   "cell_type": "code",
   "execution_count": null,
   "metadata": {},
   "outputs": [],
   "source": [
    "# for n, attribute in enumerate(attributes):\n",
    "#     if 'id' in attribute:\n",
    "#         if attribute['id'] == 'eclipticCircle':\n",
    "#             print(attribute['id'])\n",
    "#             eclipticCircle_path = paths[n]\n",
    "#             eclipticCircle_attributes = attributes[n]\n",
    "#             continue\n",
    "#         if attribute['id'] == 'constructionLine':\n",
    "#             print(attribute['id'])\n",
    "#             constructionLine = paths[n]\n",
    "#             constructionLine_attributes = attributes[n]\n",
    "#             continue"
   ]
  },
  {
   "cell_type": "code",
   "execution_count": null,
   "metadata": {},
   "outputs": [],
   "source": [
    "# intersections = []\n",
    "# for (T1, seg1, t1), (T2, seg2, t2) in eclipticCircle_path.intersect(constructionLine):\n",
    "#     p = eclipticCircle_path.point(T1)\n",
    "#     intersections.append(p)\n",
    "\n",
    "# intersections = [i for i in intersections if i is not None]\n",
    "# intersections = list(set([(p.real, p.imag) for p in intersections]))\n",
    "\n",
    "# match_list = []\n",
    "# while len(intersections) > 0:\n",
    "#     p = intersections.pop()\n",
    "#     l = [p]\n",
    "#     for m, q in enumerate(intersections):\n",
    "#         if math.isclose(p[0], q[0], abs_tol=0.01) and math.isclose(p[1], q[1], abs_tol=0.01):\n",
    "#             l.append(q)\n",
    "#             intersections.pop(m)\n",
    "#     match_list.append(l)\n",
    "\n",
    "# match_list = [{\"x2\":m[0][0], \"y2\":m[0][1]} for m in match_list]"
   ]
  },
  {
   "cell_type": "code",
   "execution_count": null,
   "metadata": {},
   "outputs": [],
   "source": [
    "css = '''\n",
    "        #diagramLabel {\n",
    "          fill: black;\n",
    "          text-anchor: end;\n",
    "          font-size: 4px;\n",
    "          stroke: none;\n",
    "        }\n",
    "        #crossHair{\n",
    "          stroke: black;\n",
    "          stroke-width: 1.2;\n",
    "          stroke-opacity: 0.8;          \n",
    "        }\n",
    "        #tropicCircles {\n",
    "          fill: none;\n",
    "          stroke: black;\n",
    "          stroke-width: 1;\n",
    "          stroke-opacity: 0.3;\n",
    "        }\n",
    "        #eclipticCircle {\n",
    "          fill: none;\n",
    "          stroke: gold;\n",
    "          stroke-width: 2;\n",
    "          stroke-opacity: 1;\n",
    "        }\n",
    "        #axisFigure {\n",
    "          stroke: black;\n",
    "          stroke-width: 1;\n",
    "          stroke-opacity: 0.5;\n",
    "        }\n",
    "        #division {\n",
    "          stroke: black;\n",
    "          stroke-width: 1;\n",
    "          stroke-opacity: 0.5;\n",
    "        }\n",
    "        #divisionBold {\n",
    "          stroke: red;\n",
    "          stroke-width: 1;\n",
    "          stroke-opacity: 1;\n",
    "        }\n",
    "        #eclipticPole, #eclipticCenter {\n",
    "          stroke: black;\n",
    "          stroke-width: 1;\n",
    "          stroke-opacity: 0.5;\n",
    "        }\n",
    "        #constructionLine, #constructionLine4 {\n",
    "          stroke-dasharray: 2 2;\n",
    "          stroke: black;\n",
    "          stroke-width: 1;\n",
    "          stroke-opacity: 0.5\n",
    "        }\n",
    "    '''"
   ]
  },
  {
   "cell_type": "code",
   "execution_count": null,
   "metadata": {},
   "outputs": [],
   "source": [
    "ecliptic_division_template = \"\"\"\n",
    "<svg id=\"test\" viewbox=\"0 0 210 210\" \n",
    "     width=\"600\" height=\"600\"\n",
    "     xmlns=\"http://www.w3.org/2000/svg\" \n",
    "     xmlns:inkscape=\"http://www.inkscape.org/namespaces/inkscape\" \n",
    "     xmlns:xlink=\"http://www.w3.org/1999/xlink\"\n",
    "     onload=\"init(evt)\">\n",
    "<defs>\n",
    "    <style type=\"text/css\">\n",
    "        #diagramLabel {\n",
    "          fill: black;\n",
    "          text-anchor: end;\n",
    "          font-size: 4px;\n",
    "          stroke: none;\n",
    "        }\n",
    "        #crossHair{\n",
    "          stroke: black;\n",
    "          stroke-width: 1.2;\n",
    "          stroke-opacity: 0.8;          \n",
    "        }\n",
    "        #tropicCircles {\n",
    "          fill: none;\n",
    "          stroke: black;\n",
    "          stroke-width: 1;\n",
    "          stroke-opacity: 0.3;\n",
    "        }\n",
    "        #tropicCircles:hover {\n",
    "          fill: none;\n",
    "          stroke: red;\n",
    "          stroke-width: 1;\n",
    "          stroke-opacity: 0.3;\n",
    "        }\n",
    "        #eclipticCircle {\n",
    "          fill: none;\n",
    "          stroke: gold;\n",
    "          stroke-width: 2;\n",
    "          stroke-opacity: 1;\n",
    "        }\n",
    "        #axisFigure {\n",
    "          stroke: black;\n",
    "          stroke-width: 1;\n",
    "          stroke-opacity: 0.5;\n",
    "        }\n",
    "        #division {\n",
    "          stroke: black;\n",
    "          stroke-width: 1;\n",
    "          stroke-opacity: 0.5;\n",
    "        }\n",
    "        #divisionBold {\n",
    "          stroke: red;\n",
    "          stroke-width: 1;\n",
    "          stroke-opacity: 1;\n",
    "        }\n",
    "        #eclipticPole, #eclipticCenter {\n",
    "          stroke: black;\n",
    "          stroke-width: 1;\n",
    "          stroke-opacity: 0.5;\n",
    "        }\n",
    "        #constructionLine, #constructionLine4 {\n",
    "          stroke-dasharray: 2 2;\n",
    "          stroke: black;\n",
    "          stroke-width: 1;\n",
    "          stroke-opacity: 0.5\n",
    "        }\n",
    "    </style>\n",
    "    <clipPath id=\"equatorialHole\" >\n",
    "        <path  d=\"\n",
    "            M0 {{ REquator }} \n",
    "            A{{ REquator }} {{ REquator }} 0 1 0 {{ 0 }} {{ -REquator }}\n",
    "            A{{ REquator }} {{ REquator }} 0 1 0 {{ 0 }} {{ REquator }}z \"/>\n",
    "    </clipPath>\n",
    "    \n",
    "    <clipPath id=\"eclipticExterior\" >\n",
    "        <path  d=\"\n",
    "            M0 {{ ecliptic.cy + ecliptic.r + 4 }} \n",
    "            A{{ ecliptic.r + 4 }} {{ ecliptic.r + 4 }} 0 1 0 {{ 0 }} {{ ecliptic.cy - ecliptic.r - 4 }}\n",
    "            A{{ ecliptic.r + 4 }} {{ ecliptic.r + 4 }} 0 1 0 {{ 0 }} {{ ecliptic.cy + ecliptic.r + 4 }}z \"/>\n",
    "    </clipPath> \n",
    "    \n",
    "    <clipPath id=\"eclipticHole\">\n",
    "        <path fill-rule=\"evenodd\" d=\"\n",
    "            M{{ top_middle_outer.x }} {{ top_middle_outer.y }}\n",
    "            A{{ outer_radius }} {{ outer_radius }} 0 0 1 {{ bottom_middle_outer.x }} {{ bottom_middle_outer.y }}\n",
    "            A{{ outer_radius }} {{ outer_radius }} 0 0 1 {{ top_middle_outer.x }} {{ top_middle_outer.y }}z\n",
    "            M{{ top_middle_inner.x }} {{ top_middle_inner.y }}\n",
    "            A{{ inner_radius }} {{ inner_radius }} 0 1 0 {{ bottom_middle_inner.x }} {{ bottom_middle_inner.y }}\n",
    "            A{{ inner_radius }} {{ inner_radius }} 0 1 0 {{top_middle_inner.x }} {{ top_middle_inner.y }}z\"/>\n",
    "    </clipPath>\n",
    "    \n",
    "    <clipPath id=\"hole\" >\n",
    "        <path id=\"test\" fill-rule=\"evenodd\" d=\"\n",
    "            M{{ -2 }} {{ RCapricorn }} \n",
    "            A{{ RCapricorn }} {{ RCapricorn }} 0 1 0 {{ 0 }} {{ -RCapricorn }}\n",
    "            A{{ RCapricorn }} {{ RCapricorn }} 0 1 0 {{ 0 }} {{ RCapricorn }}z\n",
    "            M-5,{{ ecliptic_pole + 5 }} 5,{{ ecliptic_pole + 5 }} 5,{{ ecliptic_pole - 5 }} -5,{{ ecliptic_pole -5 }} -5,{{ ecliptic_pole + 5 }} 0,{{ RCapricorn }}\n",
    "\n",
    "        \"/>\n",
    "    </clipPath>\n",
    "</defs>\n",
    "\n",
    "<g id=\"diagram\" style=\"stroke:black; stroke-width: 1;\" transform=\"translate(102, 102), scale(1, -1)\">\n",
    "    <title>Ecliptic Division</title>\n",
    "    <g >\n",
    "        <circle id=\"tropicCircles\" cx=\"0\" cy=\"0\" r=\"{{ RCapricorn }}\"/>\n",
    "        <circle id=\"tropicCircles\" cx=\"0\" cy=\"0\" r=\"{{ REquator }}\" />\n",
    "        <circle id=\"tropicCircles\" cx=\"0\" cy=\"0\" r=\"{{ RCancer }}\"/>\n",
    "        <text id=\"diagramLabel\" style=\"text-anchor: start;\" transform=\"scale(1,-1)\"\n",
    "              x=\"2\" y=\"{{ REquator + 6 }}\">Equator</text>\n",
    "    </g>\n",
    "    \n",
    "    <g id=\"cross\">\n",
    "        <line x1=\"0\" y1=\"-1\" x2=\"0\" y2=\"1\"/>\n",
    "        <line x1=\"0\" y1=\"-1\" x2=\"0\" y2=\"1\"/>\n",
    "    </g>\n",
    "    \n",
    "    <g id=\"axisFigure\">\n",
    "        <line x1=\"0\" y1=\"{{ -RCapricorn }}\" x2=\"0\" y2=\"{{ RCapricorn }}\"/>\n",
    "        <line x1=\"{{ -RCapricorn }}\" y1=\"0\" x2=\"{{ RCapricorn }}\" y2=\"0\"/>\n",
    "    </g>\n",
    "    \n",
    "    <g id=\"eclipticDiagram\">\n",
    "        <path id=\"eclipticCircle\" d=\"\n",
    "            M0 {{ ecliptic.cy + ecliptic.r }}\n",
    "            A{{ ecliptic.r }} {{ ecliptic.r }} 0 0 1 {{ ecliptic.cx }} {{ ecliptic.cy - ecliptic.r }}\n",
    "            A{{ ecliptic.r }} {{ ecliptic.r }} 0 0 1 {{ ecliptic.cx }} {{ ecliptic.cy + ecliptic.r }}z\"/>\n",
    "\n",
    "        <g id=\"eclipticCenter\">\n",
    "            <line id=\"crossHair\" x1=\"-5\" y1=\"{{ ecliptic_center }}\" x2=\"5\" y2=\"{{ ecliptic_center }}\"/>\n",
    "            <line id=\"crossHair\" x1=\"0\" y1=\"{{ ecliptic_center - 5 }}\" x2=\"0\" y2=\"{{ ecliptic_center + 5 }}\"/>\n",
    "            <text id=\"diagramLabel\" transform=\"scale(1,-1)\"\n",
    "                  x=\"-2\" y=\"{{ -ecliptic_center - 2 }}\">Ecliptic Center</text>\n",
    "        </g>\n",
    "\n",
    "        <g id=\"eclipticPole\">\n",
    "            <line id=\"crossHair\" x1=\"-5\" y1=\"{{ ecliptic_pole }}\" x2=\"5\" y2=\"{{ ecliptic_pole }}\"/>\n",
    "            <line id=\"crossHair\" x1=\"0\" y1=\"{{ ecliptic_pole - 5 }}\" x2=\"0\" y2=\"{{ ecliptic_pole + 5 }}\"/>\n",
    "            <text id=\"diagramLabel\" transform=\"scale(1,-1)\"\n",
    "                  x=\"-2\" y=\"{{ -ecliptic_pole - 2 }}\">Ecliptic Pole</text>\n",
    "        </g>\n",
    "\n",
    "        <g>\n",
    "            <title>Divide Equator</title>\n",
    "            <line id=\"division\" x1=\"0\" y1=\"{{ REquator - 4 }}\" x2=\"0\" y2=\"{{ REquator }}\"/>\n",
    "            {% for angle in angles %}\n",
    "                <use xlink:href=\"#division\" transform=\"rotate({{ angle }})\"/>\n",
    "            {%- endfor %}\n",
    "        </g>\n",
    "\n",
    "        <g>\n",
    "            <line id=\"constructionLine\" style=\"clip-path: url(#eclipticExterior);\" \n",
    "                  x1=\"0\" \n",
    "                  y1=\"{{ ecliptic_pole }}\" \n",
    "                  x2=\"{{ constructionLineEndpoint.x2 }}\" \n",
    "                  y2=\"{{ constructionLineEndpoint.y2 }}\"/>\n",
    "\n",
    "            <line id=\"constructionLine4\" x1=\"0\" y1=\"0\" \n",
    "                  x2=\"{{ intersection.x2 }}\" \n",
    "                  y2=\"{{ intersection.y2 }}\" />\n",
    "        </g>\n",
    "\n",
    "        <g style=\"clip-path: url(#eclipticHole)\">\n",
    "            <title>Divide Ecliptic</title>\n",
    "\n",
    "            {% for division in ecliptic_divisions %}\n",
    "                <line id=\"ecliptic_division\" x1=\"0\" y1=\"0\"\n",
    "                                             x2=\"{{ division.x2 }}\" \n",
    "                                             y2=\"{{ division.y2 }}\"/>\n",
    "            {%- endfor %}\n",
    "        </g>\n",
    "    </g>\n",
    "</g>\n",
    "\n",
    "<text id=\"output\" x=\"10\" y=\"190\" style=\"font-size:3pt\"></text>\n",
    "<script type=\"application/ecmascript\">\n",
    "    // <![CDATA[\n",
    "    var txt = document.getElementById(\"output\");\n",
    "    var r = document.getElementById(\"constructionLine4\");\n",
    "    \n",
    "    function init(evt) {\n",
    "        var obj;\n",
    "        obj = document.getElementById(\"diagram\");\n",
    "        obj.addEventListener(\"click\", clickButton, false);\n",
    "        obj.addEventListener(\"mousedown\", startDrag, false);\n",
    "        obj.addEventListener(\"mousemove\", doDrag, false);\n",
    "    }\n",
    "    \n",
    "    function angle(cx, cy, ex, ey) {\n",
    "      var dy = ey - cy;\n",
    "      var dx = ex - cx;\n",
    "      var theta = Math.atan2(dy, dx); // range (-PI, PI]\n",
    "      theta *= 180 / Math.PI; // rads to degs, range (-180, 180]\n",
    "      //if (theta < 0) theta = 360 + theta; // range [0, 360)\n",
    "      return theta;\n",
    "    }\n",
    "    \n",
    "    function clickButton(evt) {\n",
    "        var msg = r.getAttribute(\"x2\") + \", \" +\n",
    "        r.getAttribute(\"y2\") + \", \" +\n",
    "        r.style.getPropertyValue(\"stroke\") + \" \" +\n",
    "        r.style.getPropertyValue(\"fill\") + \" \" +\n",
    "        angle(0, 0, r.getAttribute(\"x2\"), r.getAttribute(\"y2\"));\n",
    "        r.setAttribute(\"height\", \"30\");\n",
    "        printMsg(msg); \n",
    "    }\n",
    "    \n",
    "    function startDrag(evt) {\n",
    "        var sliderId = evt.target.parentNode.getAttribute(\"id\");\n",
    "        var svg = document.getElementById('test')\n",
    "        var pt = svg.createSVGPoint();\n",
    "        \n",
    "        pt.x = evt.clientX; \n",
    "        pt.y = evt.clientY;\n",
    "        \n",
    "        var ec = document.getElementById('eclipticCenter')\n",
    "        \n",
    "        var svgP = pt.matrixTransform(ec.getScreenCTM().inverse());\n",
    "        \n",
    "        printMsg(pt.x + \" \" + pt.y + \" | \" + svgP.x + \" \" + svgP.y + \" | \" + angle(0, 0, svgP.x, svgP.y));\n",
    "    }\n",
    "    \n",
    "    function doDrag(evt) {\n",
    "        var ec = document.getElementById('cross')\n",
    "        var svg = document.getElementById('test')\n",
    "\n",
    "        var pt = svg.createSVGPoint(); \n",
    "        pt.x = evt.clientX; \n",
    "        pt.y = evt.clientY;\n",
    "        \n",
    "        var svgP = pt.matrixTransform(ec.getScreenCTM().inverse());\n",
    "        var rotAngle = angle(0, 0, svgP.x, svgP.y)\n",
    "        \n",
    "        printMsg(pt.x + \" \" + pt.y + \" | \" + svgP.x + \" \" + svgP.y + \" | \" + rotAngle);\n",
    "        ec.setAttribute(\"transform\", \"rotate(\" + rotAngle + \")\");\n",
    "    }\n",
    "    \n",
    "    function printMsg (msg){\n",
    "        txt.textContent=msg;    \n",
    "    }\n",
    "    // ]]>\n",
    "</script>\n",
    "</svg>\n",
    "\"\"\""
   ]
  },
  {
   "cell_type": "code",
   "execution_count": null,
   "metadata": {},
   "outputs": [],
   "source": [
    "constructionLineAngle = 30\n",
    "x2 = astrolabe.RadiusCapricorn * math.cos(math.radians(constructionLineAngle))\n",
    "y2 = astrolabe.RadiusCapricorn * math.sin(math.radians(constructionLineAngle))\n",
    "constructionLine = Line(complex(0, astrolabe.ecliptic_pole), complex(x2, y2))          "
   ]
  },
  {
   "cell_type": "code",
   "execution_count": null,
   "metadata": {},
   "outputs": [],
   "source": [
    "p = Path(constructionLine)"
   ]
  },
  {
   "cell_type": "code",
   "execution_count": null,
   "metadata": {},
   "outputs": [],
   "source": [
    "p.d()"
   ]
  },
  {
   "cell_type": "code",
   "execution_count": null,
   "metadata": {},
   "outputs": [],
   "source": [
    "p.reversed().d()"
   ]
  },
  {
   "cell_type": "code",
   "execution_count": null,
   "metadata": {},
   "outputs": [],
   "source": [
    "print(x2, y2)"
   ]
  },
  {
   "cell_type": "code",
   "execution_count": null,
   "metadata": {},
   "outputs": [],
   "source": [
    "for (T1, seg1, t1), (T2, seg2, t2) in astrolabe.ecliptic_path.intersect(constructionLine):\n",
    "    p = astrolabe.ecliptic_path.point(T1)\n",
    "    \n",
    "intersection = {\"x2\":p.real, \"y2\":p.imag}"
   ]
  },
  {
   "cell_type": "code",
   "execution_count": null,
   "metadata": {},
   "outputs": [],
   "source": [
    "intersection"
   ]
  },
  {
   "cell_type": "code",
   "execution_count": null,
   "metadata": {},
   "outputs": [],
   "source": [
    "ecliptic_divisions"
   ]
  },
  {
   "cell_type": "code",
   "execution_count": null,
   "metadata": {
    "scrolled": false
   },
   "outputs": [],
   "source": [
    "ecliptic_divisions = []\n",
    "for angle in list(range(0, 361, 30)):\n",
    "    ecliptic_divisions.append(astrolabe.ecliptic_division(angle))\n",
    "    \n",
    "template = Template(ecliptic_division_template)\n",
    "ecliptic_division_svg = template.render(\n",
    "    RCapricorn=astrolabe.RadiusCapricorn,\n",
    "    REquator=astrolabe.RadiusEquator,\n",
    "    RCancer=astrolabe.RadiusCancer,\n",
    "    ecliptic_center=astrolabe.ecliptic_center,\n",
    "    ecliptic_pole=astrolabe.ecliptic_pole,\n",
    "    ecliptic=ecliptic,\n",
    "    stroke_color=\"black;\",\n",
    "    angles=list(range(0, 361, 30)),\n",
    "    constructionLineEndpoint={\"x2\":x2, \"y2\":y2},\n",
    "    intersection=intersection,\n",
    "    ecliptic_divisions=ecliptic_divisions,\n",
    "    top_middle_outer=top_middle_outer,\n",
    "    bottom_middle_outer=bottom_middle_outer,\n",
    "    outer_radius=outer_radius,\n",
    "    inner_radius=inner_radius,\n",
    "    top_middle_inner=top_middle_inner,\n",
    "    bottom_middle_inner=bottom_middle_inner,\n",
    ")\n",
    "\n",
    "SVG(data=ecliptic_division_svg)"
   ]
  },
  {
   "cell_type": "code",
   "execution_count": null,
   "metadata": {},
   "outputs": [],
   "source": [
    "with open('ecliptic_division.svg', 'w') as fp:\n",
    "    fp.write(ecliptic_division_svg)"
   ]
  },
  {
   "cell_type": "code",
   "execution_count": null,
   "metadata": {},
   "outputs": [],
   "source": [
    "import svgpathtools\n",
    "import cairosvg\n",
    "import tinycss2\n",
    "from lxml.etree import ElementTree"
   ]
  },
  {
   "cell_type": "code",
   "execution_count": null,
   "metadata": {},
   "outputs": [],
   "source": [
    "svgpathtools.__file__"
   ]
  },
  {
   "cell_type": "code",
   "execution_count": null,
   "metadata": {},
   "outputs": [],
   "source": [
    "from defusedxml import ElementTree"
   ]
  },
  {
   "cell_type": "code",
   "execution_count": null,
   "metadata": {},
   "outputs": [],
   "source": [
    "svg_tree = ElementTree.fromstring(ecliptic_division_svg)"
   ]
  },
  {
   "cell_type": "code",
   "execution_count": null,
   "metadata": {},
   "outputs": [],
   "source": [
    "svg_tree.tag"
   ]
  },
  {
   "cell_type": "code",
   "execution_count": null,
   "metadata": {},
   "outputs": [],
   "source": [
    "import cssselect2"
   ]
  },
  {
   "cell_type": "code",
   "execution_count": null,
   "metadata": {},
   "outputs": [],
   "source": [
    "wrapper = cssselect2.ElementWrapper.from_xml_root(svg_tree)"
   ]
  },
  {
   "cell_type": "code",
   "execution_count": null,
   "metadata": {},
   "outputs": [],
   "source": [
    "matcher = cssselect2.Matcher()"
   ]
  },
  {
   "cell_type": "code",
   "execution_count": null,
   "metadata": {},
   "outputs": [],
   "source": [
    "with open('ecliptic_division.svg') as fp:\n",
    "    tree = cairosvg.parser.Tree(file_obj=fp)\n",
    "    \n",
    "for c in tree.xml_tree:\n",
    "    if c.tag == '{http://www.w3.org/2000/svg}defs':\n",
    "        print(c.tag)\n",
    "        for d in c:\n",
    "            if d.tag == '{http://www.w3.org/2000/svg}style':\n",
    "                break\n",
    "                print(d.tag, d.attrib)\n",
    "                print(d.text)\n",
    "\n",
    "css_parsed = tinycss2.parse_stylesheet(d.text, skip_whitespace=True)\n",
    "for b in css_parsed:\n",
    "    pass\n",
    "\n",
    "b = css_parsed[1]\n",
    "print(b.serialize())\n",
    "type(b)"
   ]
  },
  {
   "cell_type": "code",
   "execution_count": null,
   "metadata": {},
   "outputs": [],
   "source": [
    "rules = tinycss2.parse_stylesheet(d.text, skip_whitespace=True)\n",
    "for rule in rules:\n",
    "    pass"
   ]
  },
  {
   "cell_type": "code",
   "execution_count": null,
   "metadata": {},
   "outputs": [],
   "source": [
    "for rule in rules:\n",
    "    selectors = cssselect2.compile_selector_list(rule.prelude)\n",
    "    selector_string = tinycss2.serialize(rule.prelude)\n",
    "    content_string = tinycss2.serialize(rule.content)\n",
    "    payload = (selector_string, content_string)\n",
    "    for selector in selectors:\n",
    "        matcher.add_selector(selector, payload)"
   ]
  },
  {
   "cell_type": "code",
   "execution_count": null,
   "metadata": {
    "scrolled": true
   },
   "outputs": [],
   "source": [
    "for element in wrapper.iter_subtree():\n",
    "    tag = element.etree_element.tag.split('}')[-1]\n",
    "    print('Found tag \"{}\" in HTML'.format(tag))\n",
    "\n",
    "    matches = matcher.match(element)\n",
    "    if matches:\n",
    "        for match in matches:\n",
    "            specificity, order, pseudo, payload = match\n",
    "            selector_string, content_string = payload\n",
    "            print('Matching selector \"{}\" ({})'.format(\n",
    "                selector_string, content_string))\n",
    "    else:\n",
    "        print('No rule matching this tag')\n",
    "    print()"
   ]
  },
  {
   "cell_type": "code",
   "execution_count": null,
   "metadata": {},
   "outputs": [],
   "source": [
    "doc = svgpathtools.Document('ecliptic_division.svg')"
   ]
  },
  {
   "cell_type": "code",
   "execution_count": null,
   "metadata": {},
   "outputs": [],
   "source": [
    "g = doc.get_or_add_group([\"eclipticCenter\"])"
   ]
  },
  {
   "cell_type": "code",
   "execution_count": null,
   "metadata": {
    "scrolled": true
   },
   "outputs": [],
   "source": [
    "for e in tree.xml_tree.iter():\n",
    "    print(e.tag)\n",
    "    print(e.attrib)"
   ]
  },
  {
   "cell_type": "code",
   "execution_count": null,
   "metadata": {},
   "outputs": [],
   "source": [
    "import json"
   ]
  },
  {
   "cell_type": "code",
   "execution_count": null,
   "metadata": {},
   "outputs": [],
   "source": [
    "print(b.serialize())"
   ]
  },
  {
   "cell_type": "code",
   "execution_count": null,
   "metadata": {
    "scrolled": true
   },
   "outputs": [],
   "source": [
    "for elem in tree.xml_tree:\n",
    "    print(elem)"
   ]
  },
  {
   "cell_type": "code",
   "execution_count": null,
   "metadata": {
    "scrolled": false
   },
   "outputs": [],
   "source": [
    "Image(cairosvg.svg2png(ecliptic_division_svg, scale=2))"
   ]
  },
  {
   "cell_type": "markdown",
   "metadata": {},
   "source": [
    "## Sun, moon, and stars"
   ]
  },
  {
   "cell_type": "markdown",
   "metadata": {},
   "source": [
    "<img src=\"images/Moonset over Kaiaka Bay.png\" alt=\"Moonset over Kaiaka Bay.\" width=\"25%\" align=\"right\"/>\n",
    "Motion of moon and sun is computed along the ecliptic. In order to plot the position of the moon and sun on the plane of the astrolabe (actually onto the rete), first convert the ecliptic longitude and latitude to equatorial coordinates, and then use the stereographic projection.\n",
    "\n",
    "$\\sin\\delta = \\sin\\beta\\cos\\epsilon + \\cos\\beta \\sin\\epsilon \\sin\\lambda$\n",
    "\n",
    "Since $\\beta = 0$ for the sun, the formula simplifies to:\n",
    "\n",
    "$\\sin\\delta = \\sin\\epsilon \\sin\\lambda$ \n",
    "\n",
    "The ```CandyBar``` object contains the computed new moons of the time period. This is a list of the "
   ]
  },
  {
   "cell_type": "code",
   "execution_count": null,
   "metadata": {},
   "outputs": [],
   "source": [
    "from skyfield import api\n",
    "from skyfield import almanac\n",
    "from skyfield import almanac_east_asia as almanac_ea\n",
    "from skyfield.api import Topos\n",
    "\n",
    "from PIL.ExifTags import TAGS\n",
    "from PIL.ExifTags import GPSTAGS\n",
    "\n",
    "from datetime import datetime\n",
    "from datetime import timedelta\n",
    "from pytz import timezone"
   ]
  },
  {
   "cell_type": "code",
   "execution_count": null,
   "metadata": {},
   "outputs": [],
   "source": [
    "ts = api.load.timescale()\n",
    "planets = api.load('de421.bsp')\n",
    "earth, moon, sun = planets['earth'], planets['moon'], planets['sun']"
   ]
  },
  {
   "cell_type": "markdown",
   "metadata": {},
   "source": [
    "### Geolocate Photo"
   ]
  },
  {
   "cell_type": "code",
   "execution_count": null,
   "metadata": {},
   "outputs": [],
   "source": [
    "image = PIL.Image.open(\"images/Moonset over Kaiaka Bay.png\")\n",
    "exif = image._getexif()"
   ]
  },
  {
   "cell_type": "code",
   "execution_count": null,
   "metadata": {},
   "outputs": [],
   "source": [
    "labeled = {}\n",
    "for (key, val) in exif.items():\n",
    "    labeled[TAGS.get(key)] = val"
   ]
  },
  {
   "cell_type": "code",
   "execution_count": null,
   "metadata": {},
   "outputs": [],
   "source": [
    "dt = datetime.strptime(labeled['DateTime'], '%Y:%m:%d %H:%M:%S')\n",
    "print(dt.strftime('%Y-%m-%d %H:%M:%S'))"
   ]
  },
  {
   "cell_type": "code",
   "execution_count": null,
   "metadata": {},
   "outputs": [],
   "source": [
    "geotags = {}\n",
    "for (idx, tag) in TAGS.items():\n",
    "    if tag == 'GPSInfo':\n",
    "        if idx not in exif:\n",
    "            raise ValueError(\"No EXIF geotagging found\")\n",
    "\n",
    "        for (key, val) in GPSTAGS.items():\n",
    "            if key in exif[idx]:\n",
    "                geotags[val] = exif[idx][key]"
   ]
  },
  {
   "cell_type": "code",
   "execution_count": null,
   "metadata": {},
   "outputs": [],
   "source": [
    "def get_decimal_from_dms(dms, ref):\n",
    "\n",
    "    degrees = dms[0][0] / dms[0][1]\n",
    "    minutes = dms[1][0] / dms[1][1] / 60.0\n",
    "    seconds = dms[2][0] / dms[2][1] / 3600.0\n",
    "\n",
    "    if ref in ['S', 'W']:\n",
    "        degrees = -degrees\n",
    "        minutes = -minutes\n",
    "        seconds = -seconds\n",
    "\n",
    "    return round(degrees + minutes + seconds, 5)\n",
    "\n",
    "def get_coordinates(geotags):\n",
    "    lat = get_decimal_from_dms(geotags['GPSLatitude'], geotags['GPSLatitudeRef'])\n",
    "\n",
    "    lon = get_decimal_from_dms(geotags['GPSLongitude'], geotags['GPSLongitudeRef'])\n",
    "\n",
    "    return (lat,lon)\n",
    "\n",
    "\n",
    "coords = get_coordinates(geotags)"
   ]
  },
  {
   "cell_type": "code",
   "execution_count": null,
   "metadata": {},
   "outputs": [],
   "source": [
    "t0 = ts.utc(2020, 1, 1)\n",
    "t1 = ts.utc(2020, 12, 31)\n",
    "t, y = almanac.find_discrete(t0, t1, almanac.moon_phases(planets))\n",
    "\n",
    "df = pd.DataFrame(y)\n",
    "df['phase'] = [almanac.MOON_PHASES[yi] for yi in y]\n",
    "df['utc'] = t.utc_iso()"
   ]
  },
  {
   "cell_type": "code",
   "execution_count": null,
   "metadata": {},
   "outputs": [],
   "source": [
    "t0 = ts.utc(2020, 1, 1)\n",
    "t1 = ts.utc(2020, 12, 31)\n",
    "t, y = almanac.find_discrete(t0, t1, almanac.seasons(planets))\n",
    "\n",
    "for yi, ti in zip(y, t):\n",
    "    print(yi, almanac.SEASON_EVENTS[yi], ti.utc_iso(' '))"
   ]
  },
  {
   "cell_type": "code",
   "execution_count": null,
   "metadata": {},
   "outputs": [],
   "source": [
    "kaiaka = earth + Topos(latitude_degrees=coords[0], longitude_degrees=coords[1])"
   ]
  },
  {
   "cell_type": "markdown",
   "metadata": {},
   "source": [
    "### Sky"
   ]
  },
  {
   "cell_type": "code",
   "execution_count": null,
   "metadata": {},
   "outputs": [],
   "source": [
    "hawaiian = timezone('HST')\n",
    "h = hawaiian.localize(dt)\n",
    "t = ts.utc(h)"
   ]
  },
  {
   "cell_type": "code",
   "execution_count": null,
   "metadata": {},
   "outputs": [],
   "source": [
    "astrometric = kaiaka.at(t).observe(moon)\n",
    "apparent = kaiaka.at(t).observe(moon).apparent()\n",
    "apparent.altaz()"
   ]
  },
  {
   "cell_type": "code",
   "execution_count": null,
   "metadata": {},
   "outputs": [],
   "source": [
    "apparent.ecliptic_latlon()"
   ]
  },
  {
   "cell_type": "code",
   "execution_count": null,
   "metadata": {},
   "outputs": [],
   "source": [
    "alpha, delta, _ = astrometric.radec()"
   ]
  },
  {
   "cell_type": "code",
   "execution_count": null,
   "metadata": {},
   "outputs": [],
   "source": [
    "r = astrolabe.RadiusEquator * math.tan(math.radians( (90 - delta.degrees)/2.0 ))"
   ]
  },
  {
   "cell_type": "code",
   "execution_count": null,
   "metadata": {},
   "outputs": [],
   "source": [
    "theta = alpha._degrees"
   ]
  },
  {
   "cell_type": "markdown",
   "metadata": {},
   "source": [
    "<pre>\n",
    "aldebaran 16.50083 degrees\n",
    "right ascension 4h 35m 55.2s\n",
    "</pre>"
   ]
  },
  {
   "cell_type": "code",
   "execution_count": null,
   "metadata": {},
   "outputs": [],
   "source": [
    "cx = r * math.cos(alpha.radians)\n",
    "cy = r * math.sin(alpha.radians)"
   ]
  },
  {
   "cell_type": "code",
   "execution_count": null,
   "metadata": {},
   "outputs": [],
   "source": [
    "print(cx, cy, r)"
   ]
  },
  {
   "cell_type": "code",
   "execution_count": null,
   "metadata": {},
   "outputs": [],
   "source": [
    "from skyfield.api import Star, Topos, load\n",
    "from skyfield.data import hipparcos\n",
    "\n",
    "with load.open(hipparcos.URL) as f:\n",
    "    df = hipparcos.load_dataframe(f)"
   ]
  },
  {
   "cell_type": "code",
   "execution_count": null,
   "metadata": {},
   "outputs": [],
   "source": [
    "bright_stars = Star.from_dataframe(df)\n",
    "\n",
    "astrometric = earth.at(t).observe(bright_stars)\n",
    "ra, dec, distance = astrometric.radec()\n",
    "\n",
    "print('There are {} right ascensions'.format(len(ra.hours)))\n",
    "print('and {} declinations'.format(len(dec.degrees)))"
   ]
  },
  {
   "cell_type": "markdown",
   "metadata": {},
   "source": [
    "## Solar Terms\n",
    "\n",
    "![idea card](images/solarterms.png)"
   ]
  },
  {
   "cell_type": "code",
   "execution_count": null,
   "metadata": {},
   "outputs": [],
   "source": [
    "t0 = ts.utc(2019, 12, 1)\n",
    "t1 = ts.utc(2019, 12, 31)\n",
    "t, tm = almanac.find_discrete(t0, t1, almanac_ea.solar_terms(e))\n",
    "\n",
    "for tmi, ti in zip(tm, t):\n",
    "    print(tmi, almanac_ea.SOLAR_TERMS_ZHS[tmi], ti.utc_iso(' '))"
   ]
  },
  {
   "cell_type": "markdown",
   "metadata": {},
   "source": [
    "## 鼠年大吉"
   ]
  },
  {
   "cell_type": "code",
   "execution_count": null,
   "metadata": {},
   "outputs": [],
   "source": [
    "with open(\"../docs/images/rat.svg\") as fp:\n",
    "    rat_svg = fp.read()"
   ]
  },
  {
   "cell_type": "code",
   "execution_count": null,
   "metadata": {},
   "outputs": [],
   "source": [
    "rat_template = \"\"\"\n",
    "<svg viewbox=\"0 0 300 300\" \n",
    "     width=\"300\" height=\"300\" \n",
    "     xmlns=\"http://www.w3.org/2000/svg\" \n",
    "     xmlns:inkscape=\"http://www.inkscape.org/namespaces/inkscape\" \n",
    "     xmlns:xlink=\"http://www.w3.org/1999/xlink\">\n",
    "<defs>\n",
    "    <style type=\"text/css\">\n",
    "        #983: { fill: red;\n",
    "        } \n",
    "    </style>\n",
    "</defs>\n",
    "<g id=\"rat\">\n",
    "    <title>Year of the Rat </title>\n",
    "        {{ rat }}\n",
    "</g>\n",
    "</svg>\n",
    "\"\"\""
   ]
  },
  {
   "cell_type": "code",
   "execution_count": null,
   "metadata": {},
   "outputs": [],
   "source": [
    "template = Template(rat_template)\n",
    "svg = template.render(rat=rat_svg, background=cal_color[\"background\"])"
   ]
  },
  {
   "cell_type": "code",
   "execution_count": null,
   "metadata": {},
   "outputs": [],
   "source": [
    "SVG(svg)"
   ]
  },
  {
   "cell_type": "markdown",
   "metadata": {},
   "source": [
    "## Concept Card for Project"
   ]
  },
  {
   "cell_type": "code",
   "execution_count": null,
   "metadata": {},
   "outputs": [],
   "source": [
    "card_template = \"\"\"\n",
    "<svg viewbox=\"0 0 1280 640\" \n",
    "     width=\"1280\" height=\"640\" \n",
    "     xmlns=\"http://www.w3.org/2000/svg\" \n",
    "     xmlns:inkscape=\"http://www.inkscape.org/namespaces/inkscape\" \n",
    "     xmlns:xlink=\"http://www.w3.org/1999/xlink\">\n",
    "     \n",
    "<g id=\"card\">\n",
    "    \n",
    "    <defs>\n",
    "        <g transform=\"scale(1.3)\">\n",
    "            <clipPath id=\"hole\">\n",
    "               <path d=\"M75 75 L 1205 75 L 1205 565 L 75 565Z\" \n",
    "                     style=\"stroke: {{ cal_color.highlight }} \n",
    "                     fill: {{ cal_color.background }}\"/>\n",
    "            </clipPath>\n",
    "        </g>\n",
    "    </defs>\n",
    "    \n",
    "    <g>\n",
    "        <rect x=\"75px\" y=\"75px\" width=\"1130\" height=\"490\" \n",
    "              style=\"stroke: {{ cal_color.highlight }} fill: {{ cal_color.background }}\"/>\n",
    "    </g>\n",
    "\n",
    "    <g transform=\"translate(560, 138)\">\n",
    "        <title>New Year Greeting</title>\n",
    "        <text x=\"65\" y=\"40\" writing-mode=\"tb\" \n",
    "              style=\"font-size:60; font-family: Courier Arial, Helvetica, sans-serif; fill:{{ cal_color.highlight }} fill-opacity:1.0;\">鼠年大吉\n",
    "            <tspan x=\"0\" y=\"40\" writing-mode=\"tb-rl\" style=\"font-size: 60;\">恭喜發財</tspan>\n",
    "        </text>\n",
    "        <line x1=\"-30\" y1=\"40\" x2=\"-30\" y2=\"320\" style=\"stroke: {{ cal_color.highlight }} stroke-opacity: 0.2; stroke-width:3\" />\n",
    "        <line x1=\"35\"  y1=\"40\" x2=\"35\"  y2=\"320\" style=\"stroke: {{ cal_color.highlight }} stroke-opacity: 0.2; stroke-width:3\" />\n",
    "        <line x1=\"100\" y1=\"40\" x2=\"100\" y2=\"320\" style=\"stroke: {{ cal_color.highlight }} stroke-opacity: 0.2; stroke-width:3\" />\n",
    "    </g>\n",
    "    \n",
    "    <g>\n",
    "        <text x=\"95\" y=\"125\"\n",
    "              style=\"font-size:30; fill: {{ cal_color.highlight }};fill-opacity:1.0;\">Calendrical Tools 2020</text>\n",
    "        <g transform=\"translate(1110, 435) scale(0.55)\">\n",
    "            <title>Rat</title>\n",
    "            {{ rat }}\n",
    "        </g>\n",
    "    </g>\n",
    "    \n",
    "    <g transform=\"translate(690, 70)\">\n",
    "        <g transform=\"scale(2)\">\n",
    "            {{ astrolabe}}\n",
    "        </g>\n",
    "    </g>\n",
    "    \n",
    "    <g style=\"clip-path: url(#hole);\">\n",
    "        <rect x=\"75\" y=\"155\" width=\"400\" height=\"430\" style=\"stroke: {{ cal_color.highlight }} fill:none;\"/>\n",
    "        <rect x=\"65\" y=\"165\" width=\"400\" height=\"430\" style=\"stroke: {{ cal_color.highlight }} fill:none;\"/>\n",
    "        <g transform=\"translate(75, 155)\">\n",
    "            {{ candybar }}\n",
    "        </g>\n",
    "    </g>\n",
    "    \n",
    "</g></svg>\n",
    "\"\"\" "
   ]
  },
  {
   "cell_type": "code",
   "execution_count": null,
   "metadata": {},
   "outputs": [],
   "source": [
    "template = Template(card_template)\n",
    "astrolabe_svg = astrolabe_svg.replace('21.3069', \"21° 18' 25''\")\n",
    "card_svg = template.render(candybar=cal.svg, astrolabe=astrolabe_svg, \n",
    "                           rat=rat_svg, cal_color=cal_color)\n",
    "SVG(card_svg)"
   ]
  },
  {
   "cell_type": "code",
   "execution_count": null,
   "metadata": {},
   "outputs": [],
   "source": [
    "with open('card.svg', 'w') as fp:\n",
    "    fp.write(card_svg)"
   ]
  },
  {
   "cell_type": "markdown",
   "metadata": {},
   "source": [
    "**TODO:**\n",
    "- The current ``png`` image displays the vertical strings of Chinese character incorrectl. May be an issues with ```cairosvg```.\n",
    "- Not an issue, ```writing-mode``` not supported."
   ]
  },
  {
   "cell_type": "code",
   "execution_count": null,
   "metadata": {},
   "outputs": [],
   "source": [
    "try:\n",
    "    import cairosvg\n",
    "except Exception as ex:\n",
    "    print('Exception {}. Install cairosvg: '.format(ex))\n",
    "    !pip install cairosvg"
   ]
  },
  {
   "cell_type": "code",
   "execution_count": null,
   "metadata": {},
   "outputs": [],
   "source": [
    "def png_from_svg(filename=\"card.svg\"):\n",
    "    with open(filename) as fp:\n",
    "        card_svg = fp.read()\n",
    "    \n",
    "    return cairosvg.svg2png(card_svg)"
   ]
  },
  {
   "cell_type": "code",
   "execution_count": null,
   "metadata": {},
   "outputs": [],
   "source": [
    "png = png_from_svg()\n",
    "Image(png)"
   ]
  },
  {
   "cell_type": "code",
   "execution_count": null,
   "metadata": {},
   "outputs": [],
   "source": []
  }
 ],
 "metadata": {
  "kernelspec": {
   "display_name": "Python 3",
   "language": "python",
   "name": "python3"
  },
  "language_info": {
   "codemirror_mode": {
    "name": "ipython",
    "version": 3
   },
   "file_extension": ".py",
   "mimetype": "text/x-python",
   "name": "python",
   "nbconvert_exporter": "python",
   "pygments_lexer": "ipython3",
   "version": "3.8.1"
  },
  "toc": {
   "base_numbering": 1,
   "nav_menu": {},
   "number_sections": true,
   "sideBar": true,
   "skip_h1_title": false,
   "title_cell": "Table of Contents",
   "title_sidebar": "Contents",
   "toc_cell": false,
   "toc_position": {},
   "toc_section_display": true,
   "toc_window_display": false
  }
 },
 "nbformat": 4,
 "nbformat_minor": 4
}
